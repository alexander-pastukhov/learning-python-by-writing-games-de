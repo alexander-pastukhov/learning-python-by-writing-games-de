{
 "cells": [
  {
   "cell_type": "markdown",
   "metadata": {},
   "source": [
    "# Guess the animal"
   ]
  },
  {
   "cell_type": "markdown",
   "metadata": {},
   "source": [
    "## Exercise 01\n",
    "Test `input_yes_no` function here."
   ]
  },
  {
   "cell_type": "code",
   "execution_count": 2,
   "metadata": {},
   "outputs": [
    {
     "data": {
      "text/plain": [
       "False"
      ]
     },
     "execution_count": 2,
     "metadata": {},
     "output_type": "execute_result"
    }
   ],
   "source": [
    "def input_yes_no(prompt):\n",
    "    \"\"\"Get [y]es/[n]o answer.\n",
    "\n",
    "    Parameters\n",
    "    ----------\n",
    "    prompt : str\n",
    "\n",
    "\n",
    "    Returns\n",
    "    ----------\n",
    "    logical\n",
    "    \"\"\"\n",
    "\n",
    "    response = \"\"\n",
    "    while response not in [\"n\", \"y\"]:\n",
    "        response = input('Type \"y\" for yes and \"n\" for no. ' + prompt)\n",
    "\n",
    "    return response == \"y\"\n",
    "\n",
    "input_yes_no(\"Is this a pony?\")    "
   ]
  },
  {
   "cell_type": "markdown",
   "metadata": {},
   "source": [
    "## Exercise 02\n",
    "Implement computation of the factorial via recursive computation. Write a function that implements the following formula in the main text."
   ]
  },
  {
   "cell_type": "code",
   "execution_count": 3,
   "metadata": {},
   "outputs": [
    {
     "data": {
      "text/plain": [
       "120"
      ]
     },
     "execution_count": 3,
     "metadata": {},
     "output_type": "execute_result"
    }
   ],
   "source": [
    "def factorial(n):\n",
    "    \"\"\"Compute factorial.\n",
    "\n",
    "    Parameters\n",
    "    ----------\n",
    "    n : int\n",
    "\n",
    "    Returns\n",
    "    ----------\n",
    "    int\n",
    "    \"\"\"\n",
    "\n",
    "    if n == 1:\n",
    "        return 1\n",
    "    else:\n",
    "        return n * factorial(n - 1)\n",
    "\n",
    "factorial(5)"
   ]
  },
  {
   "cell_type": "markdown",
   "metadata": {},
   "source": [
    "## Exercise 03\n",
    "Run cell below to define arrays.\n"
   ]
  },
  {
   "cell_type": "code",
   "execution_count": 6,
   "metadata": {},
   "outputs": [],
   "source": [
    "oned_array = np.array([1, 2, 3, 4])\n",
    "twod_array = np.array([[5, 6], [7, 8]])"
   ]
  },
  {
   "cell_type": "markdown",
   "metadata": {},
   "source": [
    "Problem 01. Reshape `oned_array` into a 2D matrix using shape of the `twod_array` (do not hard code dimensions directly!)"
   ]
  },
  {
   "cell_type": "code",
   "execution_count": 7,
   "metadata": {},
   "outputs": [
    {
     "data": {
      "text/plain": [
       "array([[1, 2],\n",
       "       [3, 4]])"
      ]
     },
     "execution_count": 7,
     "metadata": {},
     "output_type": "execute_result"
    }
   ],
   "source": [
    "np.reshape(oned_array, twod_array.shape)"
   ]
  },
  {
   "cell_type": "markdown",
   "metadata": {},
   "source": [
    "Problem 02. Reshape `twod_array` into a 1Darray using shape of the `oned_array` (do not hard code dimensions directly!)"
   ]
  },
  {
   "cell_type": "code",
   "execution_count": 8,
   "metadata": {},
   "outputs": [
    {
     "data": {
      "text/plain": [
       "array([5, 6, 7, 8])"
      ]
     },
     "execution_count": 8,
     "metadata": {},
     "output_type": "execute_result"
    }
   ],
   "source": [
    "np.reshape(twod_array, oned_array.shape)"
   ]
  },
  {
   "cell_type": "markdown",
   "metadata": {},
   "source": [
    "Problem 03. Reshape `twod_array` into a 1Darray using its own size (do not hard code dimensions directly!)"
   ]
  },
  {
   "cell_type": "code",
   "execution_count": 9,
   "metadata": {},
   "outputs": [
    {
     "data": {
      "text/plain": [
       "array([5, 6, 7, 8])"
      ]
     },
     "execution_count": 9,
     "metadata": {},
     "output_type": "execute_result"
    }
   ],
   "source": [
    "np.reshape(twod_array, (twod_array.size, ))"
   ]
  },
  {
   "cell_type": "markdown",
   "metadata": {},
   "source": [
    "Problem 04. Reshape `twod_array` into a 1Darray via flatten."
   ]
  },
  {
   "cell_type": "code",
   "execution_count": 10,
   "metadata": {},
   "outputs": [
    {
     "data": {
      "text/plain": [
       "array([5, 6, 7, 8])"
      ]
     },
     "execution_count": 10,
     "metadata": {},
     "output_type": "execute_result"
    }
   ],
   "source": [
    "twod_array.flatten()"
   ]
  },
  {
   "cell_type": "markdown",
   "metadata": {},
   "source": [
    "## Exercise 04\n",
    "Write code that generates a division-by-zero error but is handled via `try...except...`. In the `except` simply print out a message, so that you know that it handled the exception. Create another cell, copy the code and now check that the exception handling code is _not_ executed, if the error is not generated (i.e., divide by some non-zero number)."
   ]
  },
  {
   "cell_type": "code",
   "execution_count": 11,
   "metadata": {},
   "outputs": [
    {
     "name": "stdout",
     "output_type": "stream",
     "text": [
      "Something bad happened\n"
     ]
    }
   ],
   "source": [
    "# Code when deivion-by-zero exception is raised\n",
    "try:\n",
    "    5 / 0\n",
    "except:\n",
    "    print(\"Something bad happened\")"
   ]
  },
  {
   "cell_type": "code",
   "execution_count": 12,
   "metadata": {},
   "outputs": [],
   "source": [
    "# Code when deivion-by-zero exception is NOT raised\n",
    "try:\n",
    "    5 / 1\n",
    "except:\n",
    "    print(\"Something bad happened\")"
   ]
  },
  {
   "cell_type": "markdown",
   "metadata": {},
   "source": [
    "## Exercise 05\n",
    "Implement handling for `KeyError` and `ZeroDivisionError`, they should print out different messages to check that it works. Test it by generating these runtime errors with your code.\n",
    "\n",
    "Code that handles both exceptions but produces `ZeroDivisionError` exception"
   ]
  },
  {
   "cell_type": "code",
   "execution_count": 14,
   "metadata": {},
   "outputs": [
    {
     "name": "stdout",
     "output_type": "stream",
     "text": [
      "Please do not divide by zero!\n"
     ]
    }
   ],
   "source": [
    "\n",
    "try:\n",
    "    5 / 0\n",
    "except KeyError:\n",
    "    print(\"Nope, no such key\")\n",
    "except ZeroDivisionError:\n",
    "    print(\"Please do not divide by zero!\")"
   ]
  },
  {
   "cell_type": "markdown",
   "metadata": {},
   "source": [
    "Code that handles both exceptions but produces `KeyError` exception"
   ]
  },
  {
   "cell_type": "code",
   "execution_count": 15,
   "metadata": {},
   "outputs": [
    {
     "name": "stdout",
     "output_type": "stream",
     "text": [
      "Nope, no such key\n"
     ]
    }
   ],
   "source": [
    "try:\n",
    "    {\"a\": 2}[\"b\"]\n",
    "except KeyError:\n",
    "    print(\"Nope, no such key\")\n",
    "except ZeroDivisionError:\n",
    "    print(\"Please do not divide by zero!\")"
   ]
  },
  {
   "cell_type": "markdown",
   "metadata": {},
   "source": [
    "## Exercise 06\n",
    "Repeat exercise 05 but raise `KeyError` and `ZeroDivisionError` yourself."
   ]
  },
  {
   "cell_type": "code",
   "execution_count": 16,
   "metadata": {},
   "outputs": [
    {
     "name": "stdout",
     "output_type": "stream",
     "text": [
      "Nope, no such key\n"
     ]
    }
   ],
   "source": [
    "try:\n",
    "    raise KeyError\n",
    "except KeyError:\n",
    "    print(\"Nope, no such key\")\n",
    "except ZeroDivisionError:\n",
    "    print(\"Please do not divide by zero!\")"
   ]
  },
  {
   "cell_type": "markdown",
   "metadata": {},
   "source": [
    "## Exercise 07\n",
    "Implement the code with a simple an endless while loop in which you ask whether to continue or quit (decide on how you will handle the input). Once you finally opt to quit, raise `QuitTheGame` exception that should be handled by the `try except` code wrapped around the loop. Use code to handle `QuitTheGame` exception _specifically_ and print a message to show how said you are that the player is leaving."
   ]
  },
  {
   "cell_type": "code",
   "execution_count": 17,
   "metadata": {},
   "outputs": [
    {
     "name": "stdout",
     "output_type": "stream",
     "text": [
      "It is finally over!\n"
     ]
    }
   ],
   "source": [
    "class QuitTheGame(Exception):\n",
    "    pass\n",
    "\n",
    "# Your code goes here\n",
    "try:\n",
    "    while True:\n",
    "        if input(\"Repeat again?\").lower() == \"no\":\n",
    "            raise QuitTheGame\n",
    "except QuitTheGame:\n",
    "    print(\"It is finally over!\")"
   ]
  }
 ],
 "metadata": {
  "kernelspec": {
   "display_name": "Python 3",
   "language": "python",
   "name": "python3"
  },
  "language_info": {
   "codemirror_mode": {
    "name": "ipython",
    "version": 3
   },
   "file_extension": ".py",
   "mimetype": "text/x-python",
   "name": "python",
   "nbconvert_exporter": "python",
   "pygments_lexer": "ipython3",
   "version": "3.8.3"
  }
 },
 "nbformat": 4,
 "nbformat_minor": 2
}
