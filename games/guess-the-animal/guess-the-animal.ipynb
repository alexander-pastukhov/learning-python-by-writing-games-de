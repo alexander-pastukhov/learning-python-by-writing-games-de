{
 "cells": [
  {
   "cell_type": "markdown",
   "metadata": {},
   "source": [
    "# Guess the animal"
   ]
  },
  {
   "cell_type": "markdown",
   "metadata": {},
   "source": [
    "## Exercise 01\n",
    "Test `input_yes_no` function here."
   ]
  },
  {
   "cell_type": "code",
   "execution_count": 2,
   "metadata": {},
   "outputs": [
    {
     "data": {
      "text/plain": [
       "False"
      ]
     },
     "execution_count": 2,
     "metadata": {},
     "output_type": "execute_result"
    }
   ],
   "source": [
    "def input_yes_no(prompt):\n",
    "    \"\"\"Get [y]es/[n]o answer.\n",
    "\n",
    "    Parameters\n",
    "    ----------\n",
    "    prompt : str\n",
    "\n",
    "\n",
    "    Returns\n",
    "    ----------\n",
    "    logical\n",
    "    \"\"\"\n",
    "\n",
    "    response = \"\"\n",
    "    while response not in [\"n\", \"y\"]:\n",
    "        response = input('Type \"y\" for yes and \"n\" for no. ' + prompt)\n",
    "\n",
    "    return response == \"y\"\n",
    "\n",
    "input_yes_no(\"Is this a pony?\")    "
   ]
  },
  {
   "cell_type": "markdown",
   "metadata": {},
   "source": [
    "## Exercise 02\n",
    "Implement computation of the factorial via recursive computation. Write a function that implements the following formula in the main text."
   ]
  },
  {
   "cell_type": "code",
   "execution_count": 3,
   "metadata": {},
   "outputs": [
    {
     "data": {
      "text/plain": [
       "120"
      ]
     },
     "execution_count": 3,
     "metadata": {},
     "output_type": "execute_result"
    }
   ],
   "source": [
    "def factorial(n):\n",
    "    \"\"\"Compute factorial.\n",
    "\n",
    "    Parameters\n",
    "    ----------\n",
    "    n : int\n",
    "\n",
    "    Returns\n",
    "    ----------\n",
    "    int\n",
    "    \"\"\"\n",
    "\n",
    "    if n == 1:\n",
    "        return 1\n",
    "    else:\n",
    "        return n * factorial(n - 1)\n",
    "\n",
    "factorial(5)"
   ]
  },
  {
   "cell_type": "markdown",
   "metadata": {},
   "source": [
    "## Exercise 03\n",
    "Implement conversion from logical value to \"yes\"/\"no\" strings via conditional expressions. Logical value should be stored in `user_response_logical` variable, the result should be assigned to a variable with the name of your choice.\n"
   ]
  },
  {
   "cell_type": "code",
   "execution_count": 6,
   "metadata": {},
   "outputs": [],
   "source": [
    "user_response_logical = True\n",
    "user_response = \"yes\" if user_response_logical else \"no\" "
   ]
  },
  {
   "cell_type": "markdown",
   "metadata": {},
   "source": [
    "## Exercise 04\n",
    "Implement conversion from logical value to \"yes\"/\"no\" strings via a predefined dictionary (your choice of the name, is it a variable or a CONSTANT?). Logical value should be stored in `user_response_logical` variable, the result should be assigned to a variable with the name of your choice."
   ]
  },
  {
   "cell_type": "code",
   "execution_count": 4,
   "metadata": {},
   "outputs": [
    {
     "data": {
      "text/plain": [
       "'yes'"
      ]
     },
     "execution_count": 4,
     "metadata": {},
     "output_type": "execute_result"
    }
   ],
   "source": [
    "BOOL2STR = {True: \"yes\", False: \"no\"}\n",
    "user_response_logical = True\n",
    "BOOL2STR[user_response_logical] "
   ]
  },
  {
   "cell_type": "markdown",
   "metadata": {},
   "source": [
    "### Exercise 05\n",
    "What will be printed out?\n",
    "\n",
    "**Answer: **"
   ]
  },
  {
   "cell_type": "code",
   "execution_count": null,
   "metadata": {},
   "outputs": [],
   "source": [
    "x = [1, 2, 3]\n",
    "y = x\n",
    "y.append(4)\n",
    "print(x)"
   ]
  },
  {
   "cell_type": "markdown",
   "metadata": {},
   "source": [
    "### Exercise 6\n",
    "What will be printed out?\n",
    "\n",
    "**Answer:**"
   ]
  },
  {
   "cell_type": "code",
   "execution_count": null,
   "metadata": {},
   "outputs": [],
   "source": [
    "def change_it(y):\n",
    "    y.append(4)\n",
    "\n",
    "x = [1, 2, 3]\n",
    "change_it(x)\n",
    "print(x)"
   ]
  },
  {
   "cell_type": "markdown",
   "metadata": {},
   "source": [
    "### Exercise 07\n",
    "What will be printed out?\n",
    "\n",
    "**Answer #1:**"
   ]
  },
  {
   "cell_type": "code",
   "execution_count": null,
   "metadata": {},
   "outputs": [
    {
     "name": "stdout",
     "output_type": "stream",
     "text": [
      "3\n"
     ]
    }
   ],
   "source": [
    "x = 3\n",
    "y = x\n",
    "y += 5\n",
    "print(x)"
   ]
  },
  {
   "cell_type": "markdown",
   "metadata": {},
   "source": [
    "**Answer #2:**"
   ]
  },
  {
   "cell_type": "code",
   "execution_count": null,
   "metadata": {},
   "outputs": [
    {
     "name": "stdout",
     "output_type": "stream",
     "text": [
      "[1, 4, 3]\n"
     ]
    }
   ],
   "source": [
    "x = [1, 2, 3]\n",
    "y = x\n",
    "y[1] += x[1]\n",
    "print(x)"
   ]
  },
  {
   "cell_type": "markdown",
   "metadata": {},
   "source": [
    "### Exercise 08\n",
    "What will be printed?\n",
    "\n",
    "**Answer: **"
   ]
  },
  {
   "cell_type": "code",
   "execution_count": null,
   "metadata": {},
   "outputs": [],
   "source": [
    "x = [1, 2, 3]\n",
    "y = tuple(x)\n",
    "x.append(4)\n",
    "print(y)"
   ]
  },
  {
   "cell_type": "markdown",
   "metadata": {},
   "source": [
    "### Exercise 09\n",
    "What is going to happen?\n",
    "\n",
    "**Anwer #1:**"
   ]
  },
  {
   "cell_type": "code",
   "execution_count": null,
   "metadata": {},
   "outputs": [],
   "source": [
    "def change_it(y):\n",
    "    y = list(y)\n",
    "    y.append(4)\n",
    "    print(y)\n",
    "\n",
    "x = [1, 2, 3]\n",
    "change_it(x)"
   ]
  },
  {
   "cell_type": "markdown",
   "metadata": {},
   "source": [
    "**Answer #2:**"
   ]
  },
  {
   "cell_type": "code",
   "execution_count": null,
   "metadata": {},
   "outputs": [],
   "source": [
    "def change_it(y):\n",
    "    y = list(y)\n",
    "    y.append(4)\n",
    "\n",
    "x = [1, 2, 3]\n",
    "change_it(x)\n",
    "print(x)"
   ]
  },
  {
   "cell_type": "markdown",
   "metadata": {},
   "source": [
    "**Answer #3:**"
   ]
  },
  {
   "cell_type": "code",
   "execution_count": null,
   "metadata": {},
   "outputs": [],
   "source": [
    "x = [1, 2, 3]\n",
    "y = tuple(x)\n",
    "z = list(y)\n",
    "z.append(4)\n",
    "print(x)"
   ]
  },
  {
   "cell_type": "markdown",
   "metadata": {},
   "source": [
    "### Exercise 10\n",
    "Given that `list()` and `x[:]` creates a new list? This means that you can use it to create a copy of a list directly, without an intermediate tuple step. What will happen below?\n",
    "\n",
    "**Answer :** "
   ]
  },
  {
   "cell_type": "code",
   "execution_count": null,
   "metadata": {},
   "outputs": [],
   "source": [
    "x = [1, 2, 3]\n",
    "y = x[:]\n",
    "x.append(4)\n",
    "print(y)"
   ]
  },
  {
   "cell_type": "markdown",
   "metadata": {},
   "source": [
    "## Exercise 11\n",
    " Write code that takes an _animal_ node (set `tree` variable by hand) and creates a three node tree as in option #1 in the figure in the main text. You need to create two additional dictionaries and set them to `\"yes\"` and `\"no\"` fields, so you get a dictionary that correspond to the tree in option #1. Hard code both new animal and new action initially. Once your code works, replace hard coded values with `input` calls asking user \"Who is it?\" and \"What does <animal> do?\"."
   ]
  },
  {
   "cell_type": "code",
   "execution_count": 6,
   "metadata": {},
   "outputs": [],
   "source": [
    "tree = {\"kind\" : \"animal\", \"text\" : \"dog\"}\n",
    "\n",
    "new_animal = {\"kind\" : \"animal\", \"text\" : \"cat\"}\n",
    "new_action = {\"kind\" : \"action\",\n",
    "              \"text\" : \"meow\",\n",
    "              \"yes\" : new_animal,\n",
    "              \"no\" : tree}"
   ]
  },
  {
   "cell_type": "code",
   "execution_count": 7,
   "metadata": {},
   "outputs": [],
   "source": [
    "new_animal_text = input(\"Who is it?\")\n",
    "new_animal = {\"kind\" : \"animal\", \"text\" : new_animal_text}\n",
    "\n",
    "new_action_text = input(\"What does \" + new_animal_text + \" do?\")\n",
    "new_action = {\"kind\" : \"action\",\n",
    "              \"text\" : new_action_text,\n",
    "              \"yes\" : new_animal,\n",
    "              \"no\" : tree}\n",
    "\n"
   ]
  },
  {
   "cell_type": "markdown",
   "metadata": {},
   "source": [
    "## Exercise 12\n",
    "Write the code that extends the tree by replacing the content of the original node and add new animal nodes. Use [deepcopy]() from `copy` module to make an independent copy of the original animal node."
   ]
  },
  {
   "cell_type": "code",
   "execution_count": 11,
   "metadata": {},
   "outputs": [
    {
     "data": {
      "text/plain": [
       "1777013380800"
      ]
     },
     "execution_count": 11,
     "metadata": {},
     "output_type": "execute_result"
    }
   ],
   "source": [
    "import copy\n",
    "\n",
    "tree = {\"kind\" : \"animal\", \"text\" : \"dog\"}\n",
    "\n",
    "old_animal = copy.deepcopy(tree)\n",
    "new_animal = {\"kind\" : \"animal\", \"text\" : \"cat\"}\n",
    "\n",
    "\n",
    "tree = {\"kind\" : \"action\",\n",
    "        \"text\" : \"meow\",\n",
    "        \"yes\" : new_animal,\n",
    "        \"no\" : old_animal}"
   ]
  },
  {
   "cell_type": "code",
   "execution_count": 12,
   "metadata": {},
   "outputs": [],
   "source": [
    "old_animal = copy.deepcopy(tree)\n",
    "new_animal_text = input(\"Who is it? \")\n",
    "new_animal = {\"kind\" : \"animal\", \"text\" : new_animal_text}\n",
    "\n",
    "new_action_text = input(\"What does \" + new_animal_text + \" do? \")\n",
    "tree = {\"kind\" : \"action\",\n",
    "        \"text\" : \"meow\",\n",
    "        \"yes\" : new_animal,\n",
    "        \"no\" : old_animal}"
   ]
  },
  {
   "cell_type": "code",
   "execution_count": null,
   "metadata": {},
   "outputs": [],
   "source": []
  }
 ],
 "metadata": {
  "kernelspec": {
   "display_name": "Python 3",
   "language": "python",
   "name": "python3"
  },
  "language_info": {
   "codemirror_mode": {
    "name": "ipython",
    "version": 3
   },
   "file_extension": ".py",
   "mimetype": "text/x-python",
   "name": "python",
   "nbconvert_exporter": "python",
   "pygments_lexer": "ipython3",
   "version": "3.8.3"
  }
 },
 "nbformat": 4,
 "nbformat_minor": 2
}
