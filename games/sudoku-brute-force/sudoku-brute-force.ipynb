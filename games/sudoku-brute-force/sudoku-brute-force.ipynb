{
 "cells": [
  {
   "cell_type": "markdown",
   "metadata": {},
   "source": [
    "# Sudoku: brute force algorithm"
   ]
  },
  {
   "cell_type": "code",
   "execution_count": 2,
   "metadata": {},
   "outputs": [],
   "source": [
    "import numpy as np"
   ]
  },
  {
   "cell_type": "markdown",
   "metadata": {},
   "source": [
    "## Exercise 01\n",
    "Create an array out of a list of 5 float values. Replace the second element of an array with a logical `True` value. Think what the final array values will be before printing out the array."
   ]
  },
  {
   "cell_type": "code",
   "execution_count": 3,
   "metadata": {},
   "outputs": [
    {
     "name": "stdout",
     "output_type": "stream",
     "text": [
      "[ 1.   1.   4.  52.2 -3. ]\n"
     ]
    }
   ],
   "source": [
    "an_array = np.array([1.0, 2.3, 4.0, 52.2, -3])\n",
    "an_array[1] = True\n",
    "print(an_array)"
   ]
  },
  {
   "cell_type": "markdown",
   "metadata": {},
   "source": [
    "## Exercise 02\n",
    "Create two arrays with 5 float values. Add `2` to each element of the first array and multiply arrays elementwise. Print out 2 and 3 elements of the final array using slicing."
   ]
  },
  {
   "cell_type": "code",
   "execution_count": 4,
   "metadata": {},
   "outputs": [
    {
     "name": "stdout",
     "output_type": "stream",
     "text": [
      "[-21.5 -12. ]\n"
     ]
    }
   ],
   "source": [
    "array_1 = np.array([1.0, 2.3, 4.0, 52.2, -3])\n",
    "array_2 = np.array([2.0, -5, -2.0, 0.1, -3])\n",
    "result = (array_1 + 2) * array_2\n",
    "print(result[1:3])"
   ]
  },
  {
   "cell_type": "markdown",
   "metadata": {},
   "source": [
    "## Exercise 03\n",
    "Create an array of a list of 5 float values. Compute and print mean and minimual values of the array."
   ]
  },
  {
   "cell_type": "code",
   "execution_count": 5,
   "metadata": {},
   "outputs": [
    {
     "name": "stdout",
     "output_type": "stream",
     "text": [
      "11.3 -3.0\n"
     ]
    }
   ],
   "source": [
    "an_array = np.array([1.0, 2.3, 4.0, 52.2, -3])\n",
    "print(np.mean(an_array), np.min(an_array))"
   ]
  },
  {
   "cell_type": "markdown",
   "metadata": {},
   "source": [
    "## Exercise 04\n",
    "Define a 4×4 list of lists with numbers going from 1 to 16. Extract and print second column, third row, lower right quadrant."
   ]
  },
  {
   "cell_type": "code",
   "execution_count": 6,
   "metadata": {},
   "outputs": [
    {
     "data": {
      "text/plain": [
       "[[11, 12], [15, 16]]"
      ]
     },
     "execution_count": 6,
     "metadata": {},
     "output_type": "execute_result"
    }
   ],
   "source": [
    "square_lists = [[1, 2, 3, 4],\n",
    "                [5, 6, 7, 8],\n",
    "                [9, 10, 11, 12],\n",
    "                [13, 14, 15, 16]]\n",
    "\n",
    "# second column\n",
    "[row[1] for row in square_lists]\n",
    "\n",
    "# third row\n",
    "square_lists[2]\n",
    "\n",
    "# lower right \n",
    "lower_right = []\n",
    "for row in square_lists[2:]:\n",
    "    lower_right.append(row[2:])\n",
    "lower_right"
   ]
  },
  {
   "cell_type": "markdown",
   "metadata": {},
   "source": [
    "Convert list of lists to a NumPy matrix and repeat exercise by via slicing."
   ]
  },
  {
   "cell_type": "code",
   "execution_count": 7,
   "metadata": {},
   "outputs": [
    {
     "name": "stdout",
     "output_type": "stream",
     "text": [
      "[ 2  6 10 14]\n",
      "[ 9 10 11 12]\n",
      "[[11 12]\n",
      " [15 16]]\n"
     ]
    }
   ],
   "source": [
    "square = np.array(square_lists)\n",
    "\n",
    "# second column\n",
    "print(square[:, 1])\n",
    "\n",
    "# third row\n",
    "print(square[2, :])\n",
    "\n",
    "# lower right quadrant\n",
    "print(square[2:, 2:])"
   ]
  },
  {
   "cell_type": "markdown",
   "metadata": {},
   "source": [
    "## Exercise 05\n",
    "Using [numpy.ones()](https://numpy.org/doc/stable/reference/generated/numpy.ones.html) function, create a 4×4 matrix filled with `7`."
   ]
  },
  {
   "cell_type": "code",
   "execution_count": 8,
   "metadata": {},
   "outputs": [
    {
     "data": {
      "text/plain": [
       "array([[7., 7., 7., 7.],\n",
       "       [7., 7., 7., 7.],\n",
       "       [7., 7., 7., 7.],\n",
       "       [7., 7., 7., 7.]])"
      ]
     },
     "execution_count": 8,
     "metadata": {},
     "output_type": "execute_result"
    }
   ],
   "source": [
    "np.ones((4, 4)) + 6"
   ]
  },
  {
   "cell_type": "markdown",
   "metadata": {},
   "source": [
    "## Exercise 06\n",
    "Generate a 4×5 matrix filled with normally distributed random numbers with mean of 3 and standard deviation of 1."
   ]
  },
  {
   "cell_type": "code",
   "execution_count": 9,
   "metadata": {},
   "outputs": [
    {
     "data": {
      "text/plain": [
       "array([[3.83764898, 3.83906796, 1.30127222, 3.91499791, 2.98904525],\n",
       "       [3.80462276, 4.0041827 , 2.31909637, 4.54825862, 3.37888281],\n",
       "       [1.49968713, 1.31617608, 4.65211706, 2.12491821, 2.04439234],\n",
       "       [3.59121056, 4.66736619, 3.20164877, 2.97631867, 4.79246551]])"
      ]
     },
     "execution_count": 9,
     "metadata": {},
     "output_type": "execute_result"
    }
   ],
   "source": [
    "np.random.normal(3, 1, (4, 5))"
   ]
  },
  {
   "cell_type": "markdown",
   "metadata": {},
   "source": [
    "## Exercise 07\n",
    "Generate a sequence of number from 1 to 10 using arange."
   ]
  },
  {
   "cell_type": "code",
   "execution_count": 10,
   "metadata": {},
   "outputs": [
    {
     "data": {
      "text/plain": [
       "array([ 1,  2,  3,  4,  5,  6,  7,  8,  9, 10])"
      ]
     },
     "execution_count": 10,
     "metadata": {},
     "output_type": "execute_result"
    }
   ],
   "source": [
    "np.arange(1, 11)"
   ]
  },
  {
   "cell_type": "markdown",
   "metadata": {},
   "source": [
    "Do the same but using linspace."
   ]
  },
  {
   "cell_type": "code",
   "execution_count": 11,
   "metadata": {},
   "outputs": [
    {
     "data": {
      "text/plain": [
       "array([ 1.,  2.,  3.,  4.,  5.,  6.,  7.,  8.,  9., 10.])"
      ]
     },
     "execution_count": 11,
     "metadata": {},
     "output_type": "execute_result"
    }
   ],
   "source": [
    "np.linspace(1, 10, 10)"
   ]
  },
  {
   "cell_type": "markdown",
   "metadata": {},
   "source": [
    "## Exercise 08\n",
    "Generate a 4×4 Sudoku matrix out of ordered rows (stacked vertically) or columns (stacked horizontally).\n",
    "\n",
    "Ordered by row (stacked vertically)"
   ]
  },
  {
   "cell_type": "code",
   "execution_count": 12,
   "metadata": {},
   "outputs": [
    {
     "data": {
      "text/plain": [
       "array([[1, 2, 3, 4],\n",
       "       [1, 2, 3, 4],\n",
       "       [1, 2, 3, 4],\n",
       "       [1, 2, 3, 4]])"
      ]
     },
     "execution_count": 12,
     "metadata": {},
     "output_type": "execute_result"
    }
   ],
   "source": [
    "a_row = np.arange(1, 5)\n",
    "np.stack([a_row, a_row, a_row, a_row], axis=0)"
   ]
  },
  {
   "cell_type": "markdown",
   "metadata": {},
   "source": [
    "Ordered by column (stacked horizontally)"
   ]
  },
  {
   "cell_type": "code",
   "execution_count": 13,
   "metadata": {},
   "outputs": [
    {
     "data": {
      "text/plain": [
       "array([[1, 1, 1, 1],\n",
       "       [2, 2, 2, 2],\n",
       "       [3, 3, 3, 3],\n",
       "       [4, 4, 4, 4]])"
      ]
     },
     "execution_count": 13,
     "metadata": {},
     "output_type": "execute_result"
    }
   ],
   "source": [
    "a_column = np.arange(1, 5)\n",
    "np.stack([a_column, a_column, a_column, a_column], axis=1)"
   ]
  },
  {
   "cell_type": "markdown",
   "metadata": {},
   "source": [
    "## Exercise 09\n",
    "Create a four-element row vector, i.e., its [shape](https://numpy.org/doc/stable/reference/generated/numpy.shape.html) must be `(1, 4)`. Stack it to create \n",
    "\n",
    "1. `(1, 16)` array\n",
    "2. `(4, 4)` array\n",
    "3. Use result of #1 and transpose it to get a `(16, 1)` array."
   ]
  },
  {
   "cell_type": "code",
   "execution_count": 14,
   "metadata": {},
   "outputs": [
    {
     "name": "stdout",
     "output_type": "stream",
     "text": [
      "[[1 2 3 4 1 2 3 4 1 2 3 4 1 2 3 4]]\n",
      "[[1 2 3 4]\n",
      " [1 2 3 4]\n",
      " [1 2 3 4]\n",
      " [1 2 3 4]]\n",
      "[[1]\n",
      " [2]\n",
      " [3]\n",
      " [4]\n",
      " [1]\n",
      " [2]\n",
      " [3]\n",
      " [4]\n",
      " [1]\n",
      " [2]\n",
      " [3]\n",
      " [4]\n",
      " [1]\n",
      " [2]\n",
      " [3]\n",
      " [4]]\n"
     ]
    }
   ],
   "source": [
    "row_vector = np.array([[1, 2, 3, 4]])\n",
    "\n",
    "#1\n",
    "print(np.hstack([row_vector, row_vector, row_vector, row_vector]))\n",
    "\n",
    "#2\n",
    "print(np.vstack([row_vector, row_vector, row_vector, row_vector]))\n",
    "\n",
    "#3\n",
    "print(np.transpose(np.hstack([row_vector, row_vector, row_vector, row_vector])))"
   ]
  },
  {
   "cell_type": "markdown",
   "metadata": {},
   "source": [
    "Create a four-element column vector, i.e., its [shape](https://numpy.org/doc/stable/reference/generated/numpy.shape.html) must be `(4, 1)`. Stack it to create \n",
    "\n",
    "1. `(16, 1)` array\n",
    "2. `(4, 4)` array\n",
    "3. Use result of #1 and transpose it to get a `(1, 16)` array."
   ]
  },
  {
   "cell_type": "code",
   "execution_count": 15,
   "metadata": {},
   "outputs": [
    {
     "name": "stdout",
     "output_type": "stream",
     "text": [
      "[[1]\n",
      " [2]\n",
      " [3]\n",
      " [4]\n",
      " [1]\n",
      " [2]\n",
      " [3]\n",
      " [4]\n",
      " [1]\n",
      " [2]\n",
      " [3]\n",
      " [4]\n",
      " [1]\n",
      " [2]\n",
      " [3]\n",
      " [4]]\n",
      "[[1 1 1 1]\n",
      " [2 2 2 2]\n",
      " [3 3 3 3]\n",
      " [4 4 4 4]]\n",
      "[[1 2 3 4 1 2 3 4 1 2 3 4 1 2 3 4]]\n"
     ]
    }
   ],
   "source": [
    "col_vector = np.transpose(row_vector)\n",
    "\n",
    "#1\n",
    "print(np.vstack([col_vector, col_vector, col_vector, col_vector]))\n",
    "\n",
    "#2\n",
    "print(np.hstack([col_vector, col_vector, col_vector, col_vector]))\n",
    "\n",
    "#3\n",
    "print(np.transpose(np.vstack([col_vector, col_vector, col_vector, col_vector])))"
   ]
  },
  {
   "cell_type": "markdown",
   "metadata": {},
   "source": [
    "## Exercise 10\n",
    "Generate a 4×4 matrix using [arange](https://numpy.org/doc/stable/reference/generated/numpy.arange.html) and [repeat](https://numpy.org/doc/stable/reference/generated/numpy.repeat.html). Create a column vector for values 1 to 4 from an array generated by [arange](https://numpy.org/doc/stable/reference/generated/numpy.arange.html) (check its shape, should be `(4, 1)`). Repeat that column vector four times to create a 4×4 matrix. Think and experiment with `axis` parameter of the [repeat](https://numpy.org/doc/stable/reference/generated/numpy.repeat.html) function. Your matrix should look like this:\n",
    "| 1 | 1 | 1 | 1 |\n",
    "|---|---|---|---|\n",
    "| 2 | 2 | 2 | 2 |\n",
    "| 3 | 3 | 3 | 3 |\n",
    "| 4 | 4 | 4 | 4 |\n"
   ]
  },
  {
   "cell_type": "code",
   "execution_count": 16,
   "metadata": {},
   "outputs": [
    {
     "data": {
      "text/plain": [
       "array([[1, 1, 1, 1],\n",
       "       [2, 2, 2, 2],\n",
       "       [3, 3, 3, 3],\n",
       "       [4, 4, 4, 4]])"
      ]
     },
     "execution_count": 16,
     "metadata": {},
     "output_type": "execute_result"
    }
   ],
   "source": [
    "col_vector = np.transpose(np.array([np.arange(1, 5)]))\n",
    "np.repeat(col_vector, 4, axis=1)"
   ]
  },
  {
   "cell_type": "markdown",
   "metadata": {},
   "source": [
    "## Exercise 11\n",
    "Generate a 4×4 matrix using [arange](https://numpy.org/doc/stable/reference/generated/numpy.arange.html) and [tile](https://numpy.org/doc/stable/reference/generated/numpy.tile.html). Create a row vector for values 1 to 4 from an array generated by [arange](https://numpy.org/doc/stable/reference/generated/numpy.arange.html) (check its shape, should be `(1, 4)`). Repeat that row vector four times to create a 4×4 matrix. Think and experiment with `reps` parameter of the [tile](https://numpy.org/doc/stable/reference/generated/numpy.tile.html) function. Your matrix should look like this:\n",
    "| 1 | 2 | 3 | 4 |\n",
    "|---|---|---|---|\n",
    "| 1 | 2 | 3 | 4 |\n",
    "| 1 | 2 | 3 | 4 |\n",
    "| 1 | 2 | 3 | 4 |"
   ]
  },
  {
   "cell_type": "code",
   "execution_count": 17,
   "metadata": {},
   "outputs": [
    {
     "data": {
      "text/plain": [
       "array([[1, 2, 3, 4],\n",
       "       [1, 2, 3, 4],\n",
       "       [1, 2, 3, 4],\n",
       "       [1, 2, 3, 4]])"
      ]
     },
     "execution_count": 17,
     "metadata": {},
     "output_type": "execute_result"
    }
   ],
   "source": [
    "np.tile(np.arange(1, 5), (4, 1))"
   ]
  },
  {
   "cell_type": "markdown",
   "metadata": {},
   "source": [
    "## Exercise 12\n",
    "Write the code that creates an ordered matrix by row so each row goes from 1 till 4 but each column has a single number in it. Define matrix size via a constant. Write the code that shuffles just one row (put its index in `irow` variable). Change `irow` value to test that your code works."
   ]
  },
  {
   "cell_type": "code",
   "execution_count": 18,
   "metadata": {},
   "outputs": [
    {
     "data": {
      "text/plain": [
       "array([[1, 2, 3, 4],\n",
       "       [1, 2, 3, 4],\n",
       "       [4, 2, 1, 3],\n",
       "       [1, 2, 3, 4]])"
      ]
     },
     "execution_count": 18,
     "metadata": {},
     "output_type": "execute_result"
    }
   ],
   "source": [
    "irow = 2\n",
    "\n",
    "# Your code goes here\n",
    "grid = np.tile(np.arange(1, 5), (4, 1))\n",
    "\n",
    "np.random.shuffle(grid[irow, :])\n",
    "grid"
   ]
  },
  {
   "cell_type": "markdown",
   "metadata": {},
   "source": [
    "## Exercise 13\n",
    "Write and test single row validation."
   ]
  },
  {
   "cell_type": "code",
   "execution_count": 19,
   "metadata": {},
   "outputs": [
    {
     "name": "stdout",
     "output_type": "stream",
     "text": [
      "True\n",
      "False\n"
     ]
    }
   ],
   "source": [
    "# matrix generated by row\n",
    "grid = np.tile(np.arange(1, 10), (9, 1))\n",
    "\n",
    "# row should be fine\n",
    "print(np.unique(grid[1, :]).size == grid.shape[0])\n",
    "\n",
    "# column not\n",
    "print(np.unique(grid[:, 1]).size == grid.shape[0])"
   ]
  },
  {
   "cell_type": "markdown",
   "metadata": {},
   "source": [
    "## Exercise 14\n",
    "Write and test single block extraction code, block is defined by `i_block_row` and `i_block_col`."
   ]
  },
  {
   "cell_type": "code",
   "execution_count": 20,
   "metadata": {},
   "outputs": [],
   "source": [
    "i_block_row = 1\n",
    "i_block_col = 0"
   ]
  },
  {
   "cell_type": "markdown",
   "metadata": {},
   "source": [
    "Code for when grid is stacked by row."
   ]
  },
  {
   "cell_type": "code",
   "execution_count": 21,
   "metadata": {},
   "outputs": [
    {
     "data": {
      "text/plain": [
       "array([[1, 2, 3],\n",
       "       [1, 2, 3],\n",
       "       [1, 2, 3]])"
      ]
     },
     "execution_count": 21,
     "metadata": {},
     "output_type": "execute_result"
    }
   ],
   "source": [
    "SUDOKU_SIZE = 9\n",
    "BLOCK_SIZE = 3\n",
    "\n",
    "# matrix generated by row\n",
    "grid = np.tile(np.arange(1, SUDOKU_SIZE + 1), (SUDOKU_SIZE, 1))\n",
    "\n",
    "grid[(i_block_row * BLOCK_SIZE):(i_block_row * BLOCK_SIZE + BLOCK_SIZE),\n",
    "     (i_block_col * BLOCK_SIZE):(i_block_col * BLOCK_SIZE + BLOCK_SIZE)]"
   ]
  },
  {
   "cell_type": "markdown",
   "metadata": {},
   "source": [
    "Code for when grid is stacked by column."
   ]
  },
  {
   "cell_type": "code",
   "execution_count": 22,
   "metadata": {},
   "outputs": [
    {
     "data": {
      "text/plain": [
       "array([[4, 4, 4],\n",
       "       [5, 5, 5],\n",
       "       [6, 6, 6]])"
      ]
     },
     "execution_count": 22,
     "metadata": {},
     "output_type": "execute_result"
    }
   ],
   "source": [
    "SUDOKU_SIZE = 9\n",
    "BLOCK_SIZE = 3\n",
    "\n",
    "# matrix generated by column\n",
    "row_vector = np.array([np.arange(1, SUDOKU_SIZE + 1)])\n",
    "col_vector = np.transpose(row_vector)\n",
    "grid = np.repeat(col_vector, SUDOKU_SIZE, axis=1)\n",
    "\n",
    "\n",
    "grid[(i_block_row * BLOCK_SIZE):(i_block_row * BLOCK_SIZE + BLOCK_SIZE),\n",
    "     (i_block_col * BLOCK_SIZE):(i_block_col * BLOCK_SIZE + BLOCK_SIZE)]"
   ]
  }
 ],
 "metadata": {
  "kernelspec": {
   "display_name": "Python 3",
   "language": "python",
   "name": "python3"
  },
  "language_info": {
   "codemirror_mode": {
    "name": "ipython",
    "version": 3
   },
   "file_extension": ".py",
   "mimetype": "text/x-python",
   "name": "python",
   "nbconvert_exporter": "python",
   "pygments_lexer": "ipython3",
   "version": "3.8.3"
  }
 },
 "nbformat": 4,
 "nbformat_minor": 5
}
