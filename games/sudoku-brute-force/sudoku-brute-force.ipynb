{
 "cells": [
  {
   "cell_type": "markdown",
   "id": "92d5eb60",
   "metadata": {},
   "source": [
    "# Sudoku: brute force algorithm"
   ]
  },
  {
   "cell_type": "code",
   "execution_count": 1,
   "id": "5093f492",
   "metadata": {},
   "outputs": [],
   "source": [
    "import numpy as np"
   ]
  },
  {
   "cell_type": "markdown",
   "id": "83e28df1",
   "metadata": {},
   "source": [
    "## Exercise 01\n",
    "Create an array out of a list of 5 float values and print it out."
   ]
  },
  {
   "cell_type": "code",
   "execution_count": null,
   "id": "863a6864",
   "metadata": {},
   "outputs": [],
   "source": []
  },
  {
   "cell_type": "markdown",
   "id": "c063c697",
   "metadata": {},
   "source": [
    "## Exercise 02\n",
    "Create an array of a list of 5 float values. Add `2` to each element and multiply all elements by `5`. Print out 2 and 3 elements of the list using slicing."
   ]
  },
  {
   "cell_type": "code",
   "execution_count": null,
   "id": "e6f7018d",
   "metadata": {},
   "outputs": [],
   "source": []
  },
  {
   "cell_type": "markdown",
   "id": "67d11b05",
   "metadata": {},
   "source": [
    "## Exercise 03\n",
    "Create an array of a list of 5 float values. Compute and print mean and minimual values of the array."
   ]
  },
  {
   "cell_type": "code",
   "execution_count": null,
   "id": "165c5538",
   "metadata": {},
   "outputs": [],
   "source": []
  },
  {
   "cell_type": "markdown",
   "id": "cb73dd7f",
   "metadata": {},
   "source": [
    "## Exercise 04\n",
    "Define a square 4×4 matrix, extract and print second column, third row, lower right quadrant."
   ]
  },
  {
   "cell_type": "code",
   "execution_count": null,
   "id": "8a5c77d0",
   "metadata": {},
   "outputs": [],
   "source": []
  },
  {
   "cell_type": "markdown",
   "id": "096b6bf8",
   "metadata": {},
   "source": [
    "## Exercise 05\n",
    "Using zeros or ones, generate a matrix filled with `7`."
   ]
  },
  {
   "cell_type": "code",
   "execution_count": null,
   "id": "e3e356da",
   "metadata": {},
   "outputs": [],
   "source": []
  },
  {
   "cell_type": "markdown",
   "id": "c4544755",
   "metadata": {},
   "source": [
    "## Exercise 06\n",
    "Generate a 4×5 matrix filled with normally distributed random numbers with mean of 3 and standard deviation of 1."
   ]
  },
  {
   "cell_type": "code",
   "execution_count": 2,
   "id": "c7c41ee8",
   "metadata": {},
   "outputs": [
    {
     "data": {
      "text/plain": [
       "array([[ 4.34788363,  3.23102235,  1.7663542 ,  4.27731085,  4.43687909],\n",
       "       [ 3.13138163,  3.71286465,  2.70225638,  2.51041789,  2.8575209 ],\n",
       "       [ 4.57086305,  4.19195134,  4.52772209,  3.81097419,  2.4169515 ],\n",
       "       [-0.19402309,  2.67891953,  3.02357861,  3.4221514 ,  2.26261788]])"
      ]
     },
     "execution_count": 2,
     "metadata": {},
     "output_type": "execute_result"
    }
   ],
   "source": [
    "np.random.normal(3, 1, (4, 5))"
   ]
  },
  {
   "cell_type": "markdown",
   "id": "aada98b2",
   "metadata": {},
   "source": [
    "## Exercise 07\n",
    "Generate a sequence of number from 1 to 10 using arange."
   ]
  },
  {
   "cell_type": "code",
   "execution_count": 3,
   "id": "adeeac8f",
   "metadata": {},
   "outputs": [
    {
     "data": {
      "text/plain": [
       "array([ 1,  2,  3,  4,  5,  6,  7,  8,  9, 10])"
      ]
     },
     "execution_count": 3,
     "metadata": {},
     "output_type": "execute_result"
    }
   ],
   "source": [
    "np.arange(1, 11)"
   ]
  },
  {
   "cell_type": "markdown",
   "id": "fe04130e",
   "metadata": {},
   "source": [
    "Do the same but using linspace."
   ]
  },
  {
   "cell_type": "code",
   "execution_count": 4,
   "id": "8c786fa3",
   "metadata": {},
   "outputs": [
    {
     "data": {
      "text/plain": [
       "array([ 1.,  2.,  3.,  4.,  5.,  6.,  7.,  8.,  9., 10.])"
      ]
     },
     "execution_count": 4,
     "metadata": {},
     "output_type": "execute_result"
    }
   ],
   "source": [
    "np.linspace(1, 10, 10)"
   ]
  },
  {
   "cell_type": "markdown",
   "id": "39561b1f",
   "metadata": {},
   "source": [
    "## Exercise 08\n",
    "Generate a 4×4 Sudoku matrix out of ordered rows (stacked vertically) or columns (stacked horizontally).\n",
    "\n",
    "Ordered by row (stacked vertically)"
   ]
  },
  {
   "cell_type": "code",
   "execution_count": 6,
   "id": "efdce979",
   "metadata": {},
   "outputs": [
    {
     "data": {
      "text/plain": [
       "array([[1, 2, 3, 4],\n",
       "       [1, 2, 3, 4],\n",
       "       [1, 2, 3, 4],\n",
       "       [1, 2, 3, 4]])"
      ]
     },
     "execution_count": 6,
     "metadata": {},
     "output_type": "execute_result"
    }
   ],
   "source": [
    "a_row = np.arange(1, 5)\n",
    "np.stack([a_row, a_row, a_row, a_row], axis=0)"
   ]
  },
  {
   "cell_type": "markdown",
   "id": "10389bb7",
   "metadata": {},
   "source": [
    "Ordered by column (stacked horizontally)"
   ]
  },
  {
   "cell_type": "code",
   "execution_count": 7,
   "id": "80d9e022",
   "metadata": {},
   "outputs": [
    {
     "data": {
      "text/plain": [
       "array([[1, 1, 1, 1],\n",
       "       [2, 2, 2, 2],\n",
       "       [3, 3, 3, 3],\n",
       "       [4, 4, 4, 4]])"
      ]
     },
     "execution_count": 7,
     "metadata": {},
     "output_type": "execute_result"
    }
   ],
   "source": [
    "a_column = np.arange(1, 5)\n",
    "np.stack([a_column, a_column, a_column, a_column], axis=1)"
   ]
  },
  {
   "cell_type": "markdown",
   "id": "12a47b8a",
   "metadata": {},
   "source": [
    "## Exercise 09\n",
    "Generate a 4×4 Sudoku matrix using repeat and arange. Create a column vector by transposing a row vector, stack the horizontally via repeat."
   ]
  },
  {
   "cell_type": "code",
   "execution_count": 24,
   "id": "a149a6a1",
   "metadata": {},
   "outputs": [
    {
     "data": {
      "text/plain": [
       "array([[1, 1, 1, 1],\n",
       "       [2, 2, 2, 2],\n",
       "       [3, 3, 3, 3],\n",
       "       [4, 4, 4, 4]])"
      ]
     },
     "execution_count": 24,
     "metadata": {},
     "output_type": "execute_result"
    }
   ],
   "source": [
    "row_vector = np.array([[1, 2, 3, 4]])\n",
    "col_vector = np.transpose(row_vector)\n",
    "np.repeat(col_vector, 4, axis=1)"
   ]
  },
  {
   "cell_type": "markdown",
   "id": "f203168f",
   "metadata": {},
   "source": [
    "# Exercise 10\n",
    "Generate a 4×4 Sudoku matrix with ordered rows using tile and arange."
   ]
  },
  {
   "cell_type": "code",
   "execution_count": 23,
   "id": "0b045758",
   "metadata": {},
   "outputs": [
    {
     "data": {
      "text/plain": [
       "array([[1, 2, 3, 4],\n",
       "       [1, 2, 3, 4],\n",
       "       [1, 2, 3, 4],\n",
       "       [1, 2, 3, 4]])"
      ]
     },
     "execution_count": 23,
     "metadata": {},
     "output_type": "execute_result"
    }
   ],
   "source": [
    "np.tile(np.arange(1, 5), (4, 1))"
   ]
  },
  {
   "cell_type": "markdown",
   "id": "5ff336f0",
   "metadata": {},
   "source": [
    "## Exercise 11\n",
    "Write the code that creates an ordered matrix by row (so, each row goes from 1 till 9 but each column has a single number in it) and write the code that shuffles just one row (put its index in `irow` variable). Change `irow` value to test that your code works."
   ]
  },
  {
   "cell_type": "code",
   "execution_count": 29,
   "id": "6ba12181",
   "metadata": {},
   "outputs": [
    {
     "data": {
      "text/plain": [
       "array([[1, 2, 3, 4],\n",
       "       [1, 2, 3, 4],\n",
       "       [2, 1, 3, 4],\n",
       "       [1, 2, 3, 4]])"
      ]
     },
     "execution_count": 29,
     "metadata": {},
     "output_type": "execute_result"
    }
   ],
   "source": [
    "irow = 2\n",
    "\n",
    "# Your code goes here\n",
    "grid = np.tile(np.arange(1, 5), (4, 1))\n",
    "\n",
    "np.random.shuffle(grid[irow, :])\n",
    "grid"
   ]
  },
  {
   "cell_type": "markdown",
   "id": "4aa1c2cb",
   "metadata": {},
   "source": [
    "## Exercise 12\n",
    "Write and test single row validation."
   ]
  },
  {
   "cell_type": "code",
   "execution_count": 42,
   "id": "d6b1cffb",
   "metadata": {},
   "outputs": [
    {
     "name": "stdout",
     "output_type": "stream",
     "text": [
      "True\n",
      "False\n"
     ]
    }
   ],
   "source": [
    "# matrix generated by row\n",
    "grid = np.tile(np.arange(1, 10), (9, 1))\n",
    "\n",
    "# row should be fine\n",
    "print(np.unique(grid[1, :]).size == grid.shape[0])\n",
    "\n",
    "# column not\n",
    "print(np.unique(grid[:, 1]).size == grid.shape[0])"
   ]
  },
  {
   "cell_type": "markdown",
   "id": "cc4debbc",
   "metadata": {},
   "source": [
    "## Exercise 13\n",
    "Write and test single block extraction code, block is defined by `i_block_row` and `i_block_col`."
   ]
  },
  {
   "cell_type": "code",
   "execution_count": 45,
   "id": "2dd13818",
   "metadata": {},
   "outputs": [],
   "source": [
    "i_block_row = 1\n",
    "i_block_col = 0"
   ]
  },
  {
   "cell_type": "markdown",
   "id": "fba1376c",
   "metadata": {},
   "source": [
    "Code for when grid is stacked by row."
   ]
  },
  {
   "cell_type": "code",
   "execution_count": null,
   "id": "27c61718",
   "metadata": {},
   "outputs": [],
   "source": [
    "\n",
    "SUDOKU_SIZE = 9\n",
    "BLOCK_SIZE = 3\n",
    "\n",
    "# matrix generated by row\n",
    "grid = np.tile(np.arange(1, SUDOKU_SIZE + 1), (SUDOKU_SIZE, 1))\n",
    "\n",
    "grid[(i_block_row * BLOCK_SIZE):(i_block_row * BLOCK_SIZE + BLOCK_SIZE),\n",
    "     (i_block_col * BLOCK_SIZE):(i_block_col * BLOCK_SIZE + BLOCK_SIZE)]"
   ]
  },
  {
   "cell_type": "markdown",
   "id": "86ea3290",
   "metadata": {},
   "source": [
    "Code for when grid is stacked by column."
   ]
  },
  {
   "cell_type": "code",
   "execution_count": null,
   "id": "d92d5e00",
   "metadata": {},
   "outputs": [],
   "source": [
    "\n",
    "SUDOKU_SIZE = 9\n",
    "BLOCK_SIZE = 3\n",
    "\n",
    "# matrix generated by row\n",
    "grid = np.tile(np.arange(1, SUDOKU_SIZE + 1), (SUDOKU_SIZE, 1))\n",
    "\n",
    "grid[(i_block_row * BLOCK_SIZE):(i_block_row * BLOCK_SIZE + BLOCK_SIZE),\n",
    "     (i_block_col * BLOCK_SIZE):(i_block_col * BLOCK_SIZE + BLOCK_SIZE)]"
   ]
  }
 ],
 "metadata": {
  "kernelspec": {
   "display_name": "Python 3 (ipykernel)",
   "language": "python",
   "name": "python3"
  },
  "language_info": {
   "codemirror_mode": {
    "name": "ipython",
    "version": 3
   },
   "file_extension": ".py",
   "mimetype": "text/x-python",
   "name": "python",
   "nbconvert_exporter": "python",
   "pygments_lexer": "ipython3",
   "version": "3.10.9"
  }
 },
 "nbformat": 4,
 "nbformat_minor": 5
}
