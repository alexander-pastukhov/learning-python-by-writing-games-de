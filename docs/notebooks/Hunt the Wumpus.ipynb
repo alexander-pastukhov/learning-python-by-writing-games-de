{
 "cells": [
  {
   "cell_type": "markdown",
   "id": "25aa1be7",
   "metadata": {},
   "source": [
    "# Jagd auf den Wumpus"
   ]
  },
  {
   "cell_type": "markdown",
   "id": "0af6e3c0",
   "metadata": {},
   "source": [
    "### Übung 1. Wert in einer Liste\n",
    "Was wird gedruckt, `True` oder `False`?"
   ]
  },
  {
   "cell_type": "markdown",
   "id": "bedcc637",
   "metadata": {},
   "source": [
    " **Antwort #1:**"
   ]
  },
  {
   "cell_type": "code",
   "execution_count": null,
   "id": "e79ed449",
   "metadata": {},
   "outputs": [],
   "source": [
    "x = [40, 20, 10, 20, 50, 30, 70, 15, 2]\n",
    "17 in x"
   ]
  },
  {
   "cell_type": "markdown",
   "id": "ad4cbdbb",
   "metadata": {},
   "source": [
    " **Antwort #2:**"
   ]
  },
  {
   "cell_type": "code",
   "execution_count": null,
   "id": "f12616ab",
   "metadata": {},
   "outputs": [],
   "source": [
    "x = [40, 20, 10, 20, 50, 30, 70, 15, 2]\n",
    "30 in x"
   ]
  },
  {
   "cell_type": "markdown",
   "id": "a68f0273",
   "metadata": {},
   "source": [
    " **Antwort #3:**"
   ]
  },
  {
   "cell_type": "code",
   "execution_count": null,
   "id": "baab6bfa",
   "metadata": {},
   "outputs": [],
   "source": [
    "x = [40, 20, 10, 20, 50, 30, 70, 15, 2]\n",
    "12 not in x"
   ]
  },
  {
   "cell_type": "markdown",
   "id": "0194fd2b",
   "metadata": {},
   "source": [
    " **Antwort #4:**"
   ]
  },
  {
   "cell_type": "code",
   "execution_count": null,
   "id": "d58589df",
   "metadata": {},
   "outputs": [],
   "source": [
    "x = [40, [20, 10], 20, [50, 30], 70, [15], 2]\n",
    "15 in x"
   ]
  },
  {
   "cell_type": "markdown",
   "id": "201cddd0",
   "metadata": {},
   "source": [
    " **Antwort #5:**"
   ]
  },
  {
   "cell_type": "code",
   "execution_count": null,
   "id": "9779d7e0",
   "metadata": {},
   "outputs": [],
   "source": [
    "x = [40, [20, 10], 20, [50, 30], 70, [15], 2]\n",
    "[15] in x"
   ]
  },
  {
   "cell_type": "markdown",
   "id": "63b59053",
   "metadata": {},
   "source": [
    "### Übung 2. Zeichenkette kann in eine Ganzzahl umgewandelt werden\n",
    "Was wird ausgegeben, `True` oder `False`?"
   ]
  },
  {
   "cell_type": "markdown",
   "id": "e89f2470",
   "metadata": {},
   "source": [
    "**Antwort #1:**"
   ]
  },
  {
   "cell_type": "code",
   "execution_count": null,
   "id": "f23ffe94",
   "metadata": {},
   "outputs": [],
   "source": [
    "x = \"126.2\"\n",
    "x.isdigit()"
   ]
  },
  {
   "cell_type": "markdown",
   "id": "ec3f384a",
   "metadata": {},
   "source": [
    " **Antwort #2:**"
   ]
  },
  {
   "cell_type": "code",
   "execution_count": null,
   "id": "5380b101",
   "metadata": {},
   "outputs": [],
   "source": [
    "x = \"-123\"\n",
    "x.isdigit()"
   ]
  },
  {
   "cell_type": "markdown",
   "id": "c5a0c2cc",
   "metadata": {},
   "source": [
    " **Antwort #3:**"
   ]
  },
  {
   "cell_type": "code",
   "execution_count": null,
   "id": "933c454f",
   "metadata": {},
   "outputs": [],
   "source": [
    "x = \"4703\"\n",
    "x.isdigit()"
   ]
  },
  {
   "cell_type": "markdown",
   "id": "56bf7046",
   "metadata": {},
   "source": [
    " **Antwort #4:**"
   ]
  },
  {
   "cell_type": "code",
   "execution_count": null,
   "id": "5136687b",
   "metadata": {},
   "outputs": [],
   "source": [
    "x = \"47O3\"\n",
    "x.isdigit()"
   ]
  },
  {
   "cell_type": "markdown",
   "id": "ecfc57b8",
   "metadata": {},
   "source": [
    "### Übung 3. Verwendung von Mengen\n",
    "Was wird ausgegeben? Schreibe die Antwort auf, bevor du die Zelle ausführst."
   ]
  },
  {
   "cell_type": "markdown",
   "id": "e0614c7e",
   "metadata": {},
   "source": [
    "**Antwort #1:**"
   ]
  },
  {
   "cell_type": "code",
   "execution_count": null,
   "id": "60cb0075",
   "metadata": {},
   "outputs": [],
   "source": [
    "set([1, 3, 5, 7, 3, 2])"
   ]
  },
  {
   "cell_type": "markdown",
   "id": "8469b8f2",
   "metadata": {},
   "source": [
    " **Antwort #2:**"
   ]
  },
  {
   "cell_type": "code",
   "execution_count": null,
   "id": "5d35a21f",
   "metadata": {},
   "outputs": [],
   "source": [
    "a_set = set()\n",
    "a_set.add(1)\n",
    "a_set.add(2)\n",
    "a_set.add(1)\n",
    "a_set"
   ]
  },
  {
   "cell_type": "markdown",
   "id": "e09418da",
   "metadata": {},
   "source": [
    "Beachte, dass für Mengen `a + b` äquivalent zu `a.union(b)` ist.\n",
    " \n",
    " **Antwort #3:**"
   ]
  },
  {
   "cell_type": "code",
   "execution_count": null,
   "id": "ca3696d3",
   "metadata": {},
   "outputs": [],
   "source": [
    "set_a = set([1, 2, 3, 4])\n",
    "set_b = set([3, 4, 5, 6])\n",
    "set_a + set_b"
   ]
  },
  {
   "cell_type": "markdown",
   "id": "c1611e6d",
   "metadata": {},
   "source": [
    " **Antwort #4:**"
   ]
  },
  {
   "cell_type": "code",
   "execution_count": null,
   "id": "04a4bdc8",
   "metadata": {},
   "outputs": [],
   "source": [
    "set_a = set([1, 2, 3, 4])\n",
    "set_b = set([3, 4, 5, 6])\n",
    "set_a.intersection(set_b)"
   ]
  },
  {
   "cell_type": "markdown",
   "id": "2d932a5d",
   "metadata": {},
   "source": [
    "Beachte, dass für Mengen `a - b` äquivalent zu `a.difference(b)` ist.\n",
    " \n",
    " **Antwort #5:**"
   ]
  },
  {
   "cell_type": "code",
   "execution_count": null,
   "id": "fd6b7bca",
   "metadata": {},
   "outputs": [],
   "source": [
    "set_a = set([1, 2, 3, 4])\n",
    "set_b = set([3, 4, 5, 6])\n",
    "set_a - set_b"
   ]
  },
  {
   "cell_type": "markdown",
   "id": "6d51a08d",
   "metadata": {},
   "source": [
    " **Antwort #6:**"
   ]
  },
  {
   "cell_type": "code",
   "execution_count": null,
   "id": "4e465574",
   "metadata": {},
   "outputs": [],
   "source": [
    "set_a = set([1, 2, 3, 4])\n",
    "set_b = set([3, 4, 5, 6])\n",
    "set_b - set_a"
   ]
  },
  {
   "cell_type": "markdown",
   "id": "6eca48a2",
   "metadata": {},
   "source": [
    "### Übung 4. Teste `find_vacant_cave_bruteforce` hier."
   ]
  },
  {
   "cell_type": "code",
   "execution_count": null,
   "id": "a0d6a417",
   "metadata": {},
   "outputs": [],
   "source": []
  },
  {
   "cell_type": "markdown",
   "id": "3593836c",
   "metadata": {},
   "source": [
    "### Übung 5. Teste `find_vacant_cave` hier."
   ]
  },
  {
   "cell_type": "code",
   "execution_count": null,
   "id": "ebb67f2f",
   "metadata": {},
   "outputs": [],
   "source": []
  },
  {
   "cell_type": "markdown",
   "id": "a6459195",
   "metadata": {},
   "source": [
    "### Übung 6. Teste den Code für das Platzieren von bodenlosen Gruben hier."
   ]
  },
  {
   "cell_type": "code",
   "execution_count": null,
   "id": "99531e3e",
   "metadata": {},
   "outputs": [],
   "source": []
  },
  {
   "cell_type": "markdown",
   "id": "4f5a1676",
   "metadata": {},
   "source": [
    "### Übung 7. Teste `next_arrow_cave` hier."
   ]
  },
  {
   "cell_type": "code",
   "execution_count": null,
   "id": "96606437",
   "metadata": {},
   "outputs": [],
   "source": []
  },
  {
   "cell_type": "markdown",
   "id": "3440e95e",
   "metadata": {},
   "source": [
    "### Übung 8. Teste  `input_shoot_or_move()` hier."
   ]
  },
  {
   "cell_type": "code",
   "execution_count": null,
   "id": "a63773ac",
   "metadata": {},
   "outputs": [],
   "source": []
  },
  {
   "cell_type": "markdown",
   "id": "ba5d3c12",
   "metadata": {},
   "source": [
    "### Übung 9. Teste `input_distance()` hier."
   ]
  },
  {
   "cell_type": "code",
   "execution_count": null,
   "id": "989bfde5",
   "metadata": {},
   "outputs": [],
   "source": []
  },
  {
   "cell_type": "markdown",
   "id": "07396630",
   "metadata": {},
   "source": [
    "### Übung 10. Teste `input_cave_with_prompt()` hier."
   ]
  },
  {
   "cell_type": "code",
   "execution_count": null,
   "id": "d448a333",
   "metadata": {},
   "outputs": [],
   "source": []
  }
 ],
 "metadata": {
  "kernelspec": {
   "display_name": "Python 3 (ipykernel)",
   "language": "python",
   "name": "python3"
  },
  "language_info": {
   "codemirror_mode": {
    "name": "ipython",
    "version": 3
   },
   "file_extension": ".py",
   "mimetype": "text/x-python",
   "name": "python",
   "nbconvert_exporter": "python",
   "pygments_lexer": "ipython3",
   "version": "3.10.9"
  }
 },
 "nbformat": 4,
 "nbformat_minor": 5
}
