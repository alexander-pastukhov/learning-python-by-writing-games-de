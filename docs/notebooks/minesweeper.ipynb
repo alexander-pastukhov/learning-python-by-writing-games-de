{
 "cells": [
  {
   "cell_type": "markdown",
   "id": "9c0dfd38",
   "metadata": {},
   "source": [
    "# Minesweeper"
   ]
  },
  {
   "cell_type": "code",
   "execution_count": null,
   "id": "57560339",
   "metadata": {},
   "outputs": [],
   "source": [
    "import numpy as np\n",
    "\n",
    "FIELD_SIZE = 5"
   ]
  },
  {
   "cell_type": "markdown",
   "id": "44d1de4c",
   "metadata": {},
   "source": [
    "## Übung 01\n",
    "\n",
    "Drucke die Spaltenindizes nacheinander in derselben Zeile aus. Stelle ihnen zwei zusätzliche Leerzeichen voran."
   ]
  },
  {
   "cell_type": "code",
   "execution_count": null,
   "id": "6fe4fc5e",
   "metadata": {},
   "outputs": [],
   "source": []
  },
  {
   "cell_type": "markdown",
   "id": "9bda9289",
   "metadata": {},
   "source": [
    "## Übung 02\n",
    "\n",
    "Drucke Spaltenindizes aus, indem du\n",
    "\n",
    "1. Eine Liste von Zahlen erstellst.\n",
    "2. Jedes Element der Liste mittels List Comprehensions in einen String umwandelst.\n",
    "3. Sie zu einem String verbindest.\n",
    "4. Den String mit zwei zusätzlichen `\" \"` voranstellst.\n",
    "5. Ihn dann ausdruckst."
   ]
  },
  {
   "cell_type": "code",
   "execution_count": null,
   "id": "7a89f32b",
   "metadata": {},
   "outputs": [],
   "source": []
  },
  {
   "cell_type": "markdown",
   "id": "29a1da0f",
   "metadata": {},
   "source": [
    "## Übung 03\n",
    "1. Erstelle ein Array geordneter Zahlen mit [arange](https://numpy.org/doc/stable/reference/generated/numpy.arange.html).\n",
    "2. Konvertiere sie alle in ein Array mit der Methode [astype](https://numpy.org/doc/stable/reference/generated/numpy.ndarray.astype.html).\n",
    "3. [Verbinde](https://docs.python.org/3/library/stdtypes.html#str.join) die Werte genau wie zuvor.\n",
    "4. Stelle zwei zusätzliche `\" \"` voran."
   ]
  },
  {
   "cell_type": "code",
   "execution_count": null,
   "id": "b0eb5b92",
   "metadata": {},
   "outputs": [],
   "source": []
  },
  {
   "cell_type": "markdown",
   "id": "ae4148c1",
   "metadata": {},
   "source": [
    "## Übung 04\n",
    "Zeichne eine horizontale Linie aus `\"-\"`-Zeichen, die `FIELD_SIZE` lang ist und mit zwei `\"  \"` vorangestellt wird. Verwende dazu die Wiederholung von Listen und das Zusammenführen in einen String."
   ]
  },
  {
   "cell_type": "code",
   "execution_count": null,
   "id": "da8e0a17",
   "metadata": {},
   "outputs": [],
   "source": []
  },
  {
   "cell_type": "markdown",
   "id": "636ee44b",
   "metadata": {},
   "source": [
    "## Übung 05\n",
    "Erstelle eine Liste von Buchstaben, beginnend mit \"A\", die FIELD_SIZE Buchstaben lang ist. Denke daran, dass die Codes für Buchstaben aufeinanderfolgend sind, also ist der Code für \"B\" um eins größer als der Code für \"A\", der Code für \"C\" um zwei größer als der Code für \"A\" usw. Drucke diese Buchstaben einzeln in jeder separaten Zeile mithilfe einer for-Schleife aus."
   ]
  },
  {
   "cell_type": "code",
   "execution_count": null,
   "id": "14a21beb",
   "metadata": {},
   "outputs": [],
   "source": []
  },
  {
   "cell_type": "markdown",
   "id": "4e2e301f",
   "metadata": {},
   "source": [
    "## Übung 06\n",
    "Überprüfe, ob das erste Symbol im String ein gültiger Zeilenindex ist. Dazu erstelle eine Liste gültiger GROSSBUCHSTABEN-Zeilenindex-Buchstaben mittels List Comprehension, wandele das erste Symbol des Strings in einen Großbuchstaben um und überprüfe, ob es in dieser Liste enthalten ist.\n",
    "\n",
    "Teste es mit den folgenden Beispielstrings: `\"A3\"`, `\"e9\"` (beide gültig), `\"f1\"`, `\"Z7\"`, `\"3A\"` (alle ungültig)"
   ]
  },
  {
   "cell_type": "code",
   "execution_count": null,
   "id": "2ae1a5fa",
   "metadata": {},
   "outputs": [],
   "source": []
  },
  {
   "cell_type": "markdown",
   "id": "b4bf1f33",
   "metadata": {},
   "source": [
    "## Übung 07\n",
    "Überprüfe, ob das zweite Symbol im String eine gültige Ziffer ist, indem du die String-Methode `isdigit()` verwendest, das Symbol in eine Ganzzahl umwandelst und überprüfst, ob die Ziffer innerhalb von `1`..`FIELD_SIZE` liegt. Verwende denselben Beispielstring. Welcher wird jetzt gültig sein?"
   ]
  },
  {
   "cell_type": "code",
   "execution_count": null,
   "id": "9354a974",
   "metadata": {},
   "outputs": [],
   "source": []
  },
  {
   "cell_type": "markdown",
   "id": "2b9e82a4",
   "metadata": {},
   "source": [
    "## Übung 08\n",
    "\n",
    "Erstelle eine `FIELD_SIZE` × `FIELD_SIZE` Numpy-Matrix aus einer Liste von Listen des Symbols `\" \"`. Verwende Listenreplikation, um eine einzelne Reihenliste zu erstellen (wo das Symbol `\" \"` `FIELD_SIZE`-mal wiederholt wird), und wiederhole dann die Reihe `FIELD_SIZE`-mal."
   ]
  },
  {
   "cell_type": "code",
   "execution_count": null,
   "id": "967587e6",
   "metadata": {
    "scrolled": true
   },
   "outputs": [],
   "source": []
  },
  {
   "cell_type": "markdown",
   "id": "6420303b",
   "metadata": {},
   "source": [
    "## Übung 09\n",
    "Erstelle eine `FIELD_SIZE` × `FIELD_SIZE` Numpy-Matrix aus einer Liste von Listen des Symbols `\" \"` unter Verwendung der [full](https://numpy.org/doc/stable/reference/generated/numpy.full.html)-Funktion."
   ]
  },
  {
   "cell_type": "code",
   "execution_count": null,
   "id": "6496c64d",
   "metadata": {},
   "outputs": [],
   "source": []
  },
  {
   "cell_type": "markdown",
   "id": "d78a41a5",
   "metadata": {},
   "source": [
    "## Übung 10\n",
    "\n",
    "Generiere `MINES_N` (setze es auf `5`) Minen in einzigartigen Positionen. Eine mögliche Lösung könnte sein:\n",
    "\n",
    "1. Generiere ein Paar gültiger Zeilen- und Spaltenindizes.\n",
    "2. Überprüfe, dass die Zelle leer ist (keine Mine in ihr).\n",
    "3. Platziere die Mine in der Zelle wenn sie leer ist, gehe andernfalls zurück zu Schritt 1."
   ]
  },
  {
   "cell_type": "code",
   "execution_count": null,
   "id": "1e62c463",
   "metadata": {},
   "outputs": [],
   "source": []
  },
  {
   "cell_type": "markdown",
   "id": "769f042d",
   "metadata": {},
   "source": [
    "## Übung 11\n",
    "Nehme an, dass Zeilen- und Spaltenindices in einem `coords` Tupel vorliegen (denke daran, es ist `(row, column)`). Berechne den gültigen Index für den am weitesten links liegenden Spaltenindex des rechteckigen Ausschnitts aus 1) dem Index der Zelle links und 2) dem niedrigstmöglichen Index von $0$ mithilfe von entweder [min](https://docs.python.org/3/library/functions.html#min) oder [max](https://docs.python.org/3/library/functions.html#max) (welche davon benötigst du dafür?). Teste diesen Code für `coords = (1, 1)` (einfacher Nicht-Randfall, Antwort sollte 0 sein), `coords = (3, 0)` (Randfall, Antwort sollte auch 0 sein)."
   ]
  },
  {
   "cell_type": "code",
   "execution_count": null,
   "id": "df38590a",
   "metadata": {},
   "outputs": [],
   "source": []
  },
  {
   "cell_type": "markdown",
   "id": "86979a32",
   "metadata": {},
   "source": [
    "## Übung 12\n",
    "Nehme an, dass Zeilen- und Spaltenindices in einem `coords` Tupel vorliegen (denke daran, es ist `(row, column)`). Berechne den gültigen Index für den am weitesten rechts liegenden Spaltenindex des rechteckigen Ausschnitts aus 1) dem Index der Zelle rechts und 2) dem höchstmöglichen Index von `FIELD_SIZE` mithilfe von entweder [min](https://docs.python.org/3/library/functions.html#min) oder [max](https://docs.python.org/3/library/functions.html#max). Teste diesen Code für `coords = (1, 1)` (einfacher Nicht-Randfall, Antwort sollte 3 sein, da das Slicing den Stop-Wert nicht einschließt), `coords = (3, 4)` (Randfall, Antwort sollte auch 5 sein)."
   ]
  },
  {
   "cell_type": "code",
   "execution_count": null,
   "id": "23120e6a",
   "metadata": {},
   "outputs": [],
   "source": []
  }
 ],
 "metadata": {
  "kernelspec": {
   "display_name": "Python 3 (ipykernel)",
   "language": "python",
   "name": "python3"
  },
  "language_info": {
   "codemirror_mode": {
    "name": "ipython",
    "version": 3
   },
   "file_extension": ".py",
   "mimetype": "text/x-python",
   "name": "python",
   "nbconvert_exporter": "python",
   "pygments_lexer": "ipython3",
   "version": "3.10.9"
  }
 },
 "nbformat": 4,
 "nbformat_minor": 5
}
