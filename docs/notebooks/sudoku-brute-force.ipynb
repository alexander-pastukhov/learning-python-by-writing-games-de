{
 "cells": [
  {
   "cell_type": "markdown",
   "id": "10d2332f",
   "metadata": {},
   "source": [
    "# Sudoku: Brute-Force-Algorithmus"
   ]
  },
  {
   "cell_type": "code",
   "execution_count": null,
   "id": "657205ec",
   "metadata": {},
   "outputs": [],
   "source": [
    "import numpy as np"
   ]
  },
  {
   "cell_type": "markdown",
   "id": "86dff7f0",
   "metadata": {},
   "source": [
    "## Übung 01\n",
    "Erstelle ein Array aus einer Liste mit 5 Fließkommawerten. Ersetze das zweite Element des Arrays mit einem logischen `True` Wert. Überlege dir, was die endgültigen Werte des Arrays sein werden, bevor du das Array ausgibst."
   ]
  },
  {
   "cell_type": "code",
   "execution_count": null,
   "id": "0b8d0f66",
   "metadata": {},
   "outputs": [],
   "source": []
  },
  {
   "cell_type": "markdown",
   "id": "1ce5b733",
   "metadata": {},
   "source": [
    "## Übung 02\n",
    "Erstelle zwei Arrays mit jeweils 5 Fließkommawerten. Addiere `2` zu jedem Element des ersten Arrays und multipliziere die Arrays elementweise. Gib mithilfe von Slicing das 2. und 3. Element des finalen Arrays aus."
   ]
  },
  {
   "cell_type": "code",
   "execution_count": null,
   "id": "02147b0c",
   "metadata": {},
   "outputs": [],
   "source": []
  },
  {
   "cell_type": "markdown",
   "id": "c50f0dae",
   "metadata": {},
   "source": [
    "## Übung 03\n",
    "Erstelle ein Array aus einer Liste von 5 Fließkommawerten. Berechne und gib den Mittelwert und den minimalen Wert des Arrays aus."
   ]
  },
  {
   "cell_type": "code",
   "execution_count": null,
   "id": "55ce13d7",
   "metadata": {},
   "outputs": [],
   "source": []
  },
  {
   "cell_type": "markdown",
   "id": "32f3497a",
   "metadata": {},
   "source": [
    "## Übung 04\n",
    "Definiere eine 4×4-Liste von Listen mit Zahlen von 1 bis 16. Extrahiere und gib die zweite Spalte, die dritte Reihe und das untere rechte Quadrat aus."
   ]
  },
  {
   "cell_type": "code",
   "execution_count": null,
   "id": "97abed92",
   "metadata": {},
   "outputs": [],
   "source": []
  },
  {
   "cell_type": "markdown",
   "id": "3a975de5",
   "metadata": {},
   "source": [
    "Konvertiere die Liste von Listen in eine NumPy-Matrix und wiederhole die Übung durch Slicing."
   ]
  },
  {
   "cell_type": "code",
   "execution_count": null,
   "id": "e85ce787",
   "metadata": {},
   "outputs": [],
   "source": []
  },
  {
   "cell_type": "markdown",
   "id": "24524c79",
   "metadata": {},
   "source": [
    "## Übung 05\n",
    "Verwende die Funktion [numpy.ones()](https://numpy.org/doc/stable/reference/generated/numpy.ones.html), um eine 4×4-Matrix zu erstellen, die mit `7` gefüllt ist."
   ]
  },
  {
   "cell_type": "code",
   "execution_count": null,
   "id": "c9d2b578",
   "metadata": {},
   "outputs": [],
   "source": []
  },
  {
   "cell_type": "markdown",
   "id": "eae53408",
   "metadata": {},
   "source": [
    "## Übung 06\n",
    "Erzeuge eine 4×5-Matrix, die mit normalverteilten Zufallszahlen gefüllt ist, mit einem Mittelwert von 3 und einer Standardabweichung von 1."
   ]
  },
  {
   "cell_type": "code",
   "execution_count": null,
   "id": "5f50a3f6",
   "metadata": {},
   "outputs": [],
   "source": []
  },
  {
   "cell_type": "markdown",
   "id": "f98ab6d7",
   "metadata": {},
   "source": [
    "## Übung 07\n",
    "Generiere eine Sequenz von Zahlen von 1 bis 10 mit arange."
   ]
  },
  {
   "cell_type": "code",
   "execution_count": null,
   "id": "adf3862b",
   "metadata": {},
   "outputs": [],
   "source": []
  },
  {
   "cell_type": "markdown",
   "id": "ab9a002f",
   "metadata": {},
   "source": [
    "Mache das Gleiche, aber verwende linspace."
   ]
  },
  {
   "cell_type": "code",
   "execution_count": null,
   "id": "fe75db5a",
   "metadata": {},
   "outputs": [],
   "source": []
  },
  {
   "cell_type": "markdown",
   "id": "8f258834",
   "metadata": {},
   "source": [
    "## Übung 08\n",
    "Erzeuge eine 4×4-Sudoku-Matrix aus geordneten Reihen (vertikal gestapelt) oder Spalten (horizontal gestapelt).\n",
    "\n",
    "Geordnet nach Reihe (vertikal gestapelt)"
   ]
  },
  {
   "cell_type": "code",
   "execution_count": null,
   "id": "521d1e01",
   "metadata": {},
   "outputs": [],
   "source": []
  },
  {
   "cell_type": "markdown",
   "id": "ba27328b",
   "metadata": {},
   "source": [
    "Geordnet nach Spalte (horizontal gestapelt)"
   ]
  },
  {
   "cell_type": "code",
   "execution_count": null,
   "id": "75618504",
   "metadata": {},
   "outputs": [],
   "source": []
  },
  {
   "cell_type": "markdown",
   "id": "327ea737",
   "metadata": {},
   "source": [
    "## Übung 09\n",
    "Erstelle einen Vier-Element-Zeilenvektor, also muss seine [shape](https://numpy.org/doc/stable/reference/generated/numpy.shape.html) `(1, 4)` sein. Staple ihn, um \n",
    "\n",
    "1. ein `(1, 16)`-Array,\n",
    "2. ein `(4, 4)`-Array zu erstellen.\n",
    "3. Verwende das Ergebnis von #1 und transponiere es, um ein `(16, 1)`-Array zu erhalten."
   ]
  },
  {
   "cell_type": "code",
   "execution_count": null,
   "id": "16ba2495",
   "metadata": {},
   "outputs": [],
   "source": []
  },
  {
   "cell_type": "markdown",
   "id": "c2d22e21",
   "metadata": {},
   "source": [
    "Erstelle einen vier-elementigen Spaltenvektor, d.h. seine [Form](https://numpy.org/doc/stable/reference/generated/numpy.shape.html) muss `(4, 1)` sein. Staple ihn, um zu erstellen: \n",
    "\n",
    "1. Ein `(16, 1)` Array \n",
    "2. Ein `(4, 4)` Array \n",
    "3. Verwende das Ergebnis von #1 und transponiere es, um ein `(1, 16)` Array zu erhalten."
   ]
  },
  {
   "cell_type": "code",
   "execution_count": null,
   "id": "723d8cd9",
   "metadata": {},
   "outputs": [],
   "source": []
  },
  {
   "cell_type": "markdown",
   "id": "ce342728",
   "metadata": {},
   "source": [
    "## Übung 10\n",
    "Erzeuge eine 4×4-Matrix mit [arange](https://numpy.org/doc/stable/reference/generated/numpy.arange.html) und [repeat](https://numpy.org/doc/stable/reference/generated/numpy.repeat.html). Erstelle einen Spaltenvektor für die Werte von 1 bis 4 aus einem Array, das mit [arange](https://numpy.org/doc/stable/reference/generated/numpy.arange.html) generiert wurde (überprüfe seine Form, sie sollte `(4, 1)` sein). Wiederhole diesen Spaltenvektor viermal, um eine 4×4-Matrix zu erstellen. Überlege und experimentiere mit dem `axis`-Parameter der [repeat](https://numpy.org/doc/stable/reference/generated/numpy.repeat.html)-Funktion. Deine Matrix sollte folgendermaßen aussehen:\n",
    "\n",
    "| 1 | 1 | 1 | 1 |\n",
    "|---|---|---|---|\n",
    "| 2 | 2 | 2 | 2 |\n",
    "| 3 | 3 | 3 | 3 |\n",
    "| 4 | 4 | 4 | 4 |\n"
   ]
  },
  {
   "cell_type": "code",
   "execution_count": null,
   "id": "847f5c62",
   "metadata": {},
   "outputs": [],
   "source": []
  },
  {
   "cell_type": "markdown",
   "id": "4023ad71",
   "metadata": {},
   "source": [
    "## Übung 11\n",
    "Erzeuge eine 4×4-Matrix mit [arange](https://numpy.org/doc/stable/reference/generated/numpy.arange.html) und [tile](https://numpy.org/doc/stable/reference/generated/numpy.tile.html). Erstelle einen Zeilenvektor für die Werte von 1 bis 4 aus einem Array, das mit [arange](https://numpy.org/doc/stable/reference/generated/numpy.arange.html) generiert wurde (überprüfe seine Form, sie sollte `(1, 4)` sein). Wiederhole diesen Zeilenvektor viermal, um eine 4×4-Matrix zu erstellen. Überlege und experimentiere mit dem `reps`-Parameter der [tile](https://numpy.org/doc/stable/reference/generated/numpy.tile.html)-Funktion. Deine Matrix sollte folgendermaßen aussehen:\n",
    "\n",
    "| 1 | 2 | 3 | 4 |\n",
    "|---|---|---|---|\n",
    "| 1 | 2 | 3 | 4 |\n",
    "| 1 | 2 | 3 | 4 |\n",
    "| 1 | 2 | 3 | 4 |"
   ]
  },
  {
   "cell_type": "code",
   "execution_count": null,
   "id": "1d4a3ada",
   "metadata": {},
   "outputs": [],
   "source": []
  },
  {
   "cell_type": "markdown",
   "id": "50a36f94",
   "metadata": {},
   "source": [
    "## Übung 12\n",
    "Schreibe den Code, der eine geordnete Matrix zeilenweise erstellt, sodass jede Zeile von 1 bis 4 läuft, aber jede Spalte nur eine Zahl enthält. Definiere die Größe der Matrix über eine Konstante. Schreibe den Code, der genau eine Zeile mischt (lege ihren Index in der Variable `irow` fest). Ändere den Wert von `irow`, um zu testen, ob dein Code funktioniert."
   ]
  },
  {
   "cell_type": "code",
   "execution_count": null,
   "id": "df8627a0",
   "metadata": {},
   "outputs": [],
   "source": []
  },
  {
   "cell_type": "markdown",
   "id": "91e90680",
   "metadata": {},
   "source": [
    "## Übung 13\n",
    "Schreibe und teste die Überprüfung einer einzelnen Zeile."
   ]
  },
  {
   "cell_type": "code",
   "execution_count": null,
   "id": "dc53ba44",
   "metadata": {},
   "outputs": [],
   "source": []
  },
  {
   "cell_type": "markdown",
   "id": "0c3b36b9",
   "metadata": {},
   "source": [
    "## Übung 14\n",
    "Schreibe und teste den Code zur Extraktion eines einzelnen Blocks. Der Block ist definiert durch `i_block_row` und `i_block_col`."
   ]
  },
  {
   "cell_type": "code",
   "execution_count": null,
   "id": "3eab03db",
   "metadata": {},
   "outputs": [],
   "source": [
    "i_block_row = 1\n",
    "i_block_col = 0"
   ]
  },
  {
   "cell_type": "markdown",
   "id": "e8ab3c3c",
   "metadata": {},
   "source": [
    "Code für den Fall, dass das Raster zeilenweise gestapelt ist."
   ]
  },
  {
   "cell_type": "code",
   "execution_count": null,
   "id": "24de682a",
   "metadata": {},
   "outputs": [],
   "source": []
  },
  {
   "cell_type": "markdown",
   "id": "f2449075",
   "metadata": {},
   "source": [
    "Code für den Fall, dass das Raster spaltenweise gestapelt ist."
   ]
  },
  {
   "cell_type": "code",
   "execution_count": null,
   "id": "20a5722b",
   "metadata": {},
   "outputs": [],
   "source": []
  }
 ],
 "metadata": {
  "kernelspec": {
   "display_name": "Python 3 (ipykernel)",
   "language": "python",
   "name": "python3"
  },
  "language_info": {
   "codemirror_mode": {
    "name": "ipython",
    "version": 3
   },
   "file_extension": ".py",
   "mimetype": "text/x-python",
   "name": "python",
   "nbconvert_exporter": "python",
   "pygments_lexer": "ipython3",
   "version": "3.10.9"
  }
 },
 "nbformat": 4,
 "nbformat_minor": 5
}
