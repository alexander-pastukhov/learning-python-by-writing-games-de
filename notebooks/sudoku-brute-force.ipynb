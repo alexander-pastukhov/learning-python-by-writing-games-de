{
 "cells": [
  {
   "cell_type": "markdown",
   "id": "92d5eb60",
   "metadata": {},
   "source": [
    "# Sudoku: brute force algorithm"
   ]
  },
  {
   "cell_type": "markdown",
   "id": "83e28df1",
   "metadata": {},
   "source": [
    "## Exercise 01\n",
    "Create an array out of a list of 5 float values and print it out."
   ]
  },
  {
   "cell_type": "code",
   "execution_count": null,
   "id": "863a6864",
   "metadata": {},
   "outputs": [],
   "source": []
  },
  {
   "cell_type": "markdown",
   "id": "c063c697",
   "metadata": {},
   "source": [
    "## Exercise 02\n",
    "Create an array of a list of 5 float values. Add `2` to each element and multiply all elements by `5`. Print out 2 and 3 elements of the list using slicing."
   ]
  },
  {
   "cell_type": "code",
   "execution_count": null,
   "id": "e6f7018d",
   "metadata": {},
   "outputs": [],
   "source": []
  },
  {
   "cell_type": "markdown",
   "id": "67d11b05",
   "metadata": {},
   "source": [
    "## Exercise 03\n",
    "Create an array of a list of 5 float values. Compute and print mean and minimual values of the array."
   ]
  },
  {
   "cell_type": "code",
   "execution_count": null,
   "id": "165c5538",
   "metadata": {},
   "outputs": [],
   "source": []
  },
  {
   "cell_type": "markdown",
   "id": "cb73dd7f",
   "metadata": {},
   "source": [
    "## Exercise 04\n",
    "Define a square 4×4 matrix, extract and print second column, third row, lower right quadrant."
   ]
  },
  {
   "cell_type": "code",
   "execution_count": null,
   "id": "8a5c77d0",
   "metadata": {},
   "outputs": [],
   "source": []
  },
  {
   "cell_type": "markdown",
   "id": "096b6bf8",
   "metadata": {},
   "source": [
    "## Exercise 05\n",
    "Using zeros or ones, generate a matrix filled with `7`."
   ]
  },
  {
   "cell_type": "code",
   "execution_count": null,
   "id": "e3e356da",
   "metadata": {},
   "outputs": [],
   "source": []
  },
  {
   "cell_type": "markdown",
   "id": "c4544755",
   "metadata": {},
   "source": [
    "## Exercise 06\n",
    "Generate a 4×5 matrix filled with normally distributed random numbers with mean of 3 and standard deviation of 1."
   ]
  },
  {
   "cell_type": "code",
   "execution_count": null,
   "id": "c7c41ee8",
   "metadata": {},
   "outputs": [],
   "source": []
  },
  {
   "cell_type": "markdown",
   "id": "aada98b2",
   "metadata": {},
   "source": [
    "## Exercise 07\n",
    "Generate a sequence of number from 1 to 10 using arange. Do the same but using linspace."
   ]
  },
  {
   "cell_type": "code",
   "execution_count": null,
   "id": "adeeac8f",
   "metadata": {},
   "outputs": [],
   "source": []
  },
  {
   "cell_type": "markdown",
   "id": "39561b1f",
   "metadata": {},
   "source": [
    "## Exercise 08\n",
    "Generate a 4×4 Sudoku matrix out of ordered rows (stacked vertically) or columns (stacked horizontally).\n",
    "\n",
    "Ordered by row (stacked vertically)"
   ]
  },
  {
   "cell_type": "code",
   "execution_count": null,
   "id": "efdce979",
   "metadata": {},
   "outputs": [],
   "source": []
  },
  {
   "cell_type": "markdown",
   "id": "10389bb7",
   "metadata": {},
   "source": [
    "Ordered by column (stacked horizontally)"
   ]
  },
  {
   "cell_type": "code",
   "execution_count": null,
   "id": "80d9e022",
   "metadata": {},
   "outputs": [],
   "source": []
  },
  {
   "cell_type": "markdown",
   "id": "12a47b8a",
   "metadata": {},
   "source": [
    "## Exercise 09\n",
    "Generate a 4×4 Sudoku matrix using repeat and arange"
   ]
  },
  {
   "cell_type": "code",
   "execution_count": null,
   "id": "a149a6a1",
   "metadata": {},
   "outputs": [],
   "source": []
  },
  {
   "cell_type": "markdown",
   "id": "f203168f",
   "metadata": {},
   "source": [
    "Generate a 4×4 Sudoku matrix using tile and arange"
   ]
  },
  {
   "cell_type": "code",
   "execution_count": null,
   "id": "0b045758",
   "metadata": {},
   "outputs": [],
   "source": []
  },
  {
   "cell_type": "markdown",
   "id": "5ff336f0",
   "metadata": {},
   "source": [
    "## Exercise 10\n",
    "Write the code that creates an ordered matrix by row (so, each row goes from 1 till 9 but each column has a single number in it) and write the code that shuffles just one row (put its index in `irow` variable). Change `irow` value to test that your code works."
   ]
  },
  {
   "cell_type": "code",
   "execution_count": 8,
   "id": "6ba12181",
   "metadata": {},
   "outputs": [],
   "source": [
    "irow = 2\n",
    "\n",
    "# Your code goes here"
   ]
  },
  {
   "cell_type": "markdown",
   "id": "6d9939eb",
   "metadata": {},
   "source": []
  }
 ],
 "metadata": {
  "kernelspec": {
   "display_name": "Python 3 (ipykernel)",
   "language": "python",
   "name": "python3"
  },
  "language_info": {
   "codemirror_mode": {
    "name": "ipython",
    "version": 3
   },
   "file_extension": ".py",
   "mimetype": "text/x-python",
   "name": "python",
   "nbconvert_exporter": "python",
   "pygments_lexer": "ipython3",
   "version": "3.10.9"
  }
 },
 "nbformat": 4,
 "nbformat_minor": 5
}
