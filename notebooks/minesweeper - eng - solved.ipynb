{
 "cells": [
  {
   "cell_type": "markdown",
   "id": "9c0dfd38",
   "metadata": {},
   "source": [
    "# Minesweeper"
   ]
  },
  {
   "cell_type": "code",
   "execution_count": 2,
   "id": "57560339",
   "metadata": {},
   "outputs": [],
   "source": [
    "import numpy as np\n",
    "\n",
    "FIELD_SIZE = 5"
   ]
  },
  {
   "cell_type": "markdown",
   "id": "44d1de4c",
   "metadata": {},
   "source": [
    "## Exercise 01\n",
    "\n",
    "Print out column indexes one by one on the same line. Prepend them with two extra spaces."
   ]
  },
  {
   "cell_type": "code",
   "execution_count": 4,
   "id": "6fe4fc5e",
   "metadata": {},
   "outputs": [
    {
     "name": "stdout",
     "output_type": "stream",
     "text": [
      "  12345"
     ]
    }
   ],
   "source": [
    "print(\"  \", end=\"\")\n",
    "for icol in range(1, FIELD_SIZE + 1):\n",
    "    print(icol, end=\"\")"
   ]
  },
  {
   "cell_type": "markdown",
   "id": "9bda9289",
   "metadata": {},
   "source": [
    "## Exercise 02\n",
    "\n",
    "Print out columns by \n",
    "\n",
    "1. Creating a list of numbers.\n",
    "2. Converting each element of a list to a string via list comprehensions\n",
    "3. Joining them into a string.\n",
    "4. Prepending the string with two extra `\" \"`\n",
    "5. Printing it out"
   ]
  },
  {
   "cell_type": "code",
   "execution_count": 5,
   "id": "7a89f32b",
   "metadata": {},
   "outputs": [
    {
     "name": "stdout",
     "output_type": "stream",
     "text": [
      "  12345\n"
     ]
    }
   ],
   "source": [
    "digits = [str(digit) for digit in range(1, FIELD_SIZE + 1)]\n",
    "print(\"  \" + \"\".join(digits))"
   ]
  },
  {
   "cell_type": "markdown",
   "id": "29a1da0f",
   "metadata": {},
   "source": [
    "## Exercise 03\n",
    "1. Build an array of ordered numbers using [arange](https://numpy.org/doc/stable/reference/generated/numpy.arange.html).\n",
    "2. Convert them all to an array via [astype](https://numpy.org/doc/stable/reference/generated/numpy.ndarray.astype.html) method.\n",
    "3. [Join](https://docs.python.org/3/library/stdtypes.html#str.join) values just as you did before.\n",
    "4. Prepend with two extra `\" \"`."
   ]
  },
  {
   "cell_type": "code",
   "execution_count": 27,
   "id": "b0eb5b92",
   "metadata": {},
   "outputs": [
    {
     "data": {
      "text/plain": [
       "'  12345'"
      ]
     },
     "execution_count": 27,
     "metadata": {},
     "output_type": "execute_result"
    }
   ],
   "source": [
    "\"  \" + \"\".join(np.arange(1, FIELD_SIZE + 1).astype(str))"
   ]
  },
  {
   "cell_type": "markdown",
   "id": "ae4148c1",
   "metadata": {},
   "source": [
    "## Exercise 04\n",
    "Draw a horizontal line out of `\"-\"` characters which is `FIELD_SIZE` long and is prepended by two `\"  \"`. Use list repetition and joining into the string for this."
   ]
  },
  {
   "cell_type": "code",
   "execution_count": 8,
   "id": "da8e0a17",
   "metadata": {},
   "outputs": [
    {
     "name": "stdout",
     "output_type": "stream",
     "text": [
      "  -----\n"
     ]
    }
   ],
   "source": [
    "print(\"  \" + \"\".join([\"-\"] * FIELD_SIZE))"
   ]
  },
  {
   "cell_type": "markdown",
   "id": "636ee44b",
   "metadata": {},
   "source": [
    "## Exercise 05\n",
    "Build a list of characters starting from \"A\" which is FIELD_SIZE letters long. Remember that codes for letters are consecutive, so code for \"B\" is larger than code for \"A\" by one, the code for \"C\" is larger than code for \"A\" by two, etc. Print out this letters one-by-one in each separate line using a for loop."
   ]
  },
  {
   "cell_type": "code",
   "execution_count": 9,
   "id": "14a21beb",
   "metadata": {},
   "outputs": [
    {
     "name": "stdout",
     "output_type": "stream",
     "text": [
      "A\n",
      "B\n",
      "C\n",
      "D\n",
      "E\n"
     ]
    }
   ],
   "source": [
    "row_letters = [chr(ord(\"A\") + i) for i in range(FIELD_SIZE)]\n",
    "for row in row_letters:\n",
    "    print(row)"
   ]
  },
  {
   "cell_type": "markdown",
   "id": "4e2e301f",
   "metadata": {},
   "source": [
    "## Exercise 06\n",
    "Check whether a first symbol in the string is a valid row index. For this, build a list of valid UPPER CASE row index letters via list comprehension, convert the first symbol of the string to the upper case and check whether it is in that list.\n",
    "\n",
    "Test it on following example strings: `\"A3\"`, `\"e9\"` (both valid),  `\"f1\"`, `\"Z7\"`, `\"3A\"` (all invalid)"
   ]
  },
  {
   "cell_type": "code",
   "execution_count": 19,
   "id": "2ae1a5fa",
   "metadata": {},
   "outputs": [
    {
     "data": {
      "text/plain": [
       "False"
      ]
     },
     "execution_count": 19,
     "metadata": {},
     "output_type": "execute_result"
    }
   ],
   "source": [
    "row_letters = [chr(ord(\"A\") + i) for i in range(FIELD_SIZE)]\n",
    "\n",
    "\"A3\"[0].upper() in row_letters\n",
    "\"e9\"[0].upper() in row_letters\n",
    "\"f1\"[0].upper() in row_letters\n",
    "\"Z7\"[0].upper() in row_letters\n",
    "\"3A\"[0].upper() in row_letters"
   ]
  },
  {
   "cell_type": "markdown",
   "id": "b4bf1f33",
   "metadata": {},
   "source": [
    "## Exercise 07\n",
    "Check whether the second symbol in the string is a valid digit using `isdigit()` string method, converting to an integer and checkeing whether the digit is within `1`..`FIELD_SIZE`. Use same example string, which will be valid now?"
   ]
  },
  {
   "cell_type": "code",
   "execution_count": 21,
   "id": "9354a974",
   "metadata": {},
   "outputs": [
    {
     "data": {
      "text/plain": [
       "True"
      ]
     },
     "execution_count": 21,
     "metadata": {},
     "output_type": "execute_result"
    }
   ],
   "source": [
    "coords = \"A3\"\n",
    "coords[1].isdigit() and int(coords[1]) >= 1 and int(coords[1]) <= FIELD_SIZE"
   ]
  },
  {
   "cell_type": "markdown",
   "id": "2b9e82a4",
   "metadata": {},
   "source": [
    "## Exercise 08\n",
    "\n",
    "Create a `FIELD_SIZE` × `FIELD_SIZE` numpy matrix from a list of lists of `\" \"` symbol. Use list repetition to create a single row list (where symbol `\" \"` is repeated `FIELD_SIZE` times) and then again to repeat row `FIELD_SIZE` times."
   ]
  },
  {
   "cell_type": "code",
   "execution_count": 6,
   "id": "967587e6",
   "metadata": {
    "scrolled": true
   },
   "outputs": [
    {
     "data": {
      "text/plain": [
       "array([[' ', ' ', ' ', ' ', ' '],\n",
       "       [' ', ' ', ' ', ' ', ' '],\n",
       "       [' ', ' ', ' ', ' ', ' '],\n",
       "       [' ', ' ', ' ', ' ', ' '],\n",
       "       [' ', ' ', ' ', ' ', ' ']], dtype='<U1')"
      ]
     },
     "execution_count": 6,
     "metadata": {},
     "output_type": "execute_result"
    }
   ],
   "source": [
    "np.array([[\" \"] * FIELD_SIZE] * FIELD_SIZE)"
   ]
  },
  {
   "cell_type": "markdown",
   "id": "6420303b",
   "metadata": {},
   "source": [
    "## Exercise 09\n",
    "Create a  a FIELD_SIZE × FIELD_SIZE numpy matrix from a list of lists of \" \" symbol using  [full](https://numpy.org/doc/stable/reference/generated/numpy.full.html) function."
   ]
  },
  {
   "cell_type": "code",
   "execution_count": 29,
   "id": "6496c64d",
   "metadata": {},
   "outputs": [
    {
     "data": {
      "text/plain": [
       "array([[' ', ' ', ' ', ' ', ' '],\n",
       "       [' ', ' ', ' ', ' ', ' '],\n",
       "       [' ', ' ', ' ', ' ', ' '],\n",
       "       [' ', ' ', ' ', ' ', ' '],\n",
       "       [' ', ' ', ' ', ' ', ' ']], dtype='<U1')"
      ]
     },
     "execution_count": 29,
     "metadata": {},
     "output_type": "execute_result"
    }
   ],
   "source": [
    "np.full((FIELD_SIZE, FIELD_SIZE), \" \")"
   ]
  },
  {
   "cell_type": "markdown",
   "id": "d78a41a5",
   "metadata": {},
   "source": [
    "## Exercise 10\n",
    "\n",
    "Generate `MINES_N` (set it to `5`) number of mines in unique positions. One possible solution is two\n",
    "\n",
    "1. generate a pair of valid row and column indexes\n",
    "2. check that that cell is empty (no mine in it)\n",
    "3. place the mine if cell is empty, go to step 1 otherwise"
   ]
  },
  {
   "cell_type": "code",
   "execution_count": 32,
   "id": "1e62c463",
   "metadata": {},
   "outputs": [
    {
     "data": {
      "text/plain": [
       "array([[' ', ' ', ' ', ' ', ' '],\n",
       "       [' ', ' ', ' ', ' ', ' '],\n",
       "       [' ', ' ', '*', ' ', '*'],\n",
       "       [' ', ' ', '*', ' ', '*'],\n",
       "       [' ', '*', ' ', ' ', ' ']], dtype='<U1')"
      ]
     },
     "execution_count": 32,
     "metadata": {},
     "output_type": "execute_result"
    }
   ],
   "source": [
    "MINES_N = 5\n",
    "\n",
    "# create an empty field\n",
    "field = np.full((FIELD_SIZE, FIELD_SIZE), ' ')\n",
    "\n",
    "np.random.seed(42)\n",
    "\n",
    "# place mines\n",
    "for _ in range(MINES_N):\n",
    "    # finding a vacant spot\n",
    "    xy = np.random.randint(0, FIELD_SIZE, 2)\n",
    "    while field[xy[0], xy[1]] == \"*\":\n",
    "        xy = np.random.randint(0, FIELD_SIZE, 2)\n",
    "    field[xy[0], xy[1]] = \"*\"\n",
    "field"
   ]
  },
  {
   "cell_type": "markdown",
   "id": "769f042d",
   "metadata": {},
   "source": [
    "## Exercise 11\n",
    "Assume that row and cell column index are in `coords` tuple (remember, it is `(row, column)`). Compute valid index for the left-most column index of the rectangular slice out of 1) index of the cell to the left, 2) lowest possible index of $0$ using either [min](https://docs.python.org/3/library/functions.html#min) and [max](https://docs.python.org/3/library/functions.html#max) (which one do you need for this?). Test this code for `coords = (1, 1)` (easy non-edge case, answer should be 0), `coords = (3, 0)` (edge case, answer also should be 0)"
   ]
  },
  {
   "cell_type": "code",
   "execution_count": 44,
   "id": "df38590a",
   "metadata": {},
   "outputs": [
    {
     "data": {
      "text/plain": [
       "0"
      ]
     },
     "execution_count": 44,
     "metadata": {},
     "output_type": "execute_result"
    }
   ],
   "source": [
    "coords = (1, 1)\n",
    "max(coords[1] - 1, 0)"
   ]
  },
  {
   "cell_type": "code",
   "execution_count": 43,
   "id": "7626623b",
   "metadata": {},
   "outputs": [
    {
     "data": {
      "text/plain": [
       "0"
      ]
     },
     "execution_count": 43,
     "metadata": {},
     "output_type": "execute_result"
    }
   ],
   "source": [
    "coords = (3, 0)\n",
    "max(coords[1] - 1, 0)"
   ]
  },
  {
   "cell_type": "markdown",
   "id": "86979a32",
   "metadata": {},
   "source": [
    "## Exercise 12\n",
    "Assume that row and cell column index are in `coords` tuple (remember, it is `(row, column)`). Compute valid index for the right-most column index of the rectangular slice out of 1) index of the cell to the right, 2) highest possible index of `FIELD_SIZE` using either [min](https://docs.python.org/3/library/functions.html#min) and [max](https://docs.python.org/3/library/functions.html#max). Test this code for `coords = (1, 1)` (easy non-edge case, answer should be 3 because slicing does not include the stop value), `coords = (3, 4)` (edge case, answer also should be 5)"
   ]
  },
  {
   "cell_type": "code",
   "execution_count": 41,
   "id": "23120e6a",
   "metadata": {},
   "outputs": [
    {
     "data": {
      "text/plain": [
       "3"
      ]
     },
     "execution_count": 41,
     "metadata": {},
     "output_type": "execute_result"
    }
   ],
   "source": [
    "coords = (1, 1)\n",
    "min(coords[1] + 2, FIELD_SIZE)"
   ]
  },
  {
   "cell_type": "code",
   "execution_count": 42,
   "id": "48eb2dae",
   "metadata": {},
   "outputs": [
    {
     "data": {
      "text/plain": [
       "5"
      ]
     },
     "execution_count": 42,
     "metadata": {},
     "output_type": "execute_result"
    }
   ],
   "source": [
    "coords = (3, 4)\n",
    "min(coords[1] + 2, FIELD_SIZE)"
   ]
  }
 ],
 "metadata": {
  "kernelspec": {
   "display_name": "Python 3 (ipykernel)",
   "language": "python",
   "name": "python3"
  },
  "language_info": {
   "codemirror_mode": {
    "name": "ipython",
    "version": 3
   },
   "file_extension": ".py",
   "mimetype": "text/x-python",
   "name": "python",
   "nbconvert_exporter": "python",
   "pygments_lexer": "ipython3",
   "version": "3.10.9"
  }
 },
 "nbformat": 4,
 "nbformat_minor": 5
}
