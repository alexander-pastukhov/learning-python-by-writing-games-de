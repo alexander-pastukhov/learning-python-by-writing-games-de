{
 "cells": [
  {
   "cell_type": "markdown",
   "metadata": {},
   "source": [
    "# Rate das Tier"
   ]
  },
  {
   "cell_type": "markdown",
   "metadata": {},
   "source": [
    "## Übung 01\n",
    "Teste die `input_yes_no` Funktion hier."
   ]
  },
  {
   "cell_type": "code",
   "execution_count": null,
   "metadata": {},
   "outputs": [],
   "source": []
  },
  {
   "cell_type": "markdown",
   "metadata": {},
   "source": [
    "## Übung 02\n",
    "Implementiere die Berechnung der Fakultät über rekursive Berechnung. Schreibe eine Funktion, die die folgende Formel im Haupttext implementiert."
   ]
  },
  {
   "cell_type": "code",
   "execution_count": null,
   "metadata": {},
   "outputs": [],
   "source": []
  },
  {
   "cell_type": "markdown",
   "metadata": {},
   "source": [
    "## Übung 03\n",
    "Implementiere die Umwandlung von logischen Werten in \"ja\"/\"nein\" Strings über bedingte Ausdrücke. Der logische Wert sollte in der Variablen `user_response_logical` gespeichert werden, das Ergebnis sollte einer Variablen mit einem Namen deiner Wahl zugewiesen werden."
   ]
  },
  {
   "cell_type": "code",
   "execution_count": null,
   "metadata": {},
   "outputs": [],
   "source": []
  },
  {
   "cell_type": "markdown",
   "metadata": {},
   "source": [
    "## Übung 04\n",
    "Implementiere die Umwandlung von logischen Werten in \"ja\"/\"nein\" Strings über ein vordefiniertes Wörterbuch (deine Wahl des Namens, handelt es sich um eine Variable oder eine KONSTANTE?). Der logische Wert sollte in der Variablen `user_response_logical` gespeichert werden, das Ergebnis sollte einer Variablen mit einem Namen deiner Wahl zugewiesen werden."
   ]
  },
  {
   "cell_type": "code",
   "execution_count": null,
   "metadata": {},
   "outputs": [],
   "source": []
  },
  {
   "cell_type": "markdown",
   "metadata": {},
   "source": [
    "### Übung 05\n",
    "Was wird ausgegeben?\n",
    "\n",
    "**Antwort: **"
   ]
  },
  {
   "cell_type": "code",
   "execution_count": null,
   "metadata": {},
   "outputs": [],
   "source": [
    "x = [1, 2, 3]\n",
    "y = x\n",
    "y.append(4)\n",
    "print(x)"
   ]
  },
  {
   "cell_type": "markdown",
   "metadata": {},
   "source": [
    "### Übung 6\n",
    "Was wird ausgegeben?\n",
    "\n",
    "**Antwort:**"
   ]
  },
  {
   "cell_type": "code",
   "execution_count": null,
   "metadata": {},
   "outputs": [],
   "source": [
    "def change_it(y):\n",
    "    y.append(4)\n",
    "\n",
    "x = [1, 2, 3]\n",
    "change_it(x)\n",
    "print(x)"
   ]
  },
  {
   "cell_type": "markdown",
   "metadata": {},
   "source": [
    "### Übung 07\n",
    "Was wird ausgegeben?\n",
    "\n",
    "**Antwort #1:**"
   ]
  },
  {
   "cell_type": "code",
   "execution_count": null,
   "metadata": {},
   "outputs": [],
   "source": [
    "x = 3\n",
    "y = x\n",
    "y += 5\n",
    "print(x)"
   ]
  },
  {
   "cell_type": "markdown",
   "metadata": {},
   "source": [
    "**Antwort #2:**"
   ]
  },
  {
   "cell_type": "code",
   "execution_count": null,
   "metadata": {},
   "outputs": [],
   "source": [
    "x = [1, 2, 3]\n",
    "y = x\n",
    "y[1] += x[1]\n",
    "print(x)"
   ]
  },
  {
   "cell_type": "markdown",
   "metadata": {},
   "source": [
    "### Übung 08\n",
    "Was wird ausgegeben?\n",
    "\n",
    "**Antwort: **"
   ]
  },
  {
   "cell_type": "code",
   "execution_count": null,
   "metadata": {},
   "outputs": [],
   "source": [
    "x = [1, 2, 3]\n",
    "y = tuple(x)\n",
    "x.append(4)\n",
    "print(y)"
   ]
  },
  {
   "cell_type": "markdown",
   "metadata": {},
   "source": [
    "### Übung 09\n",
    "Was wird passieren?\n",
    "\n",
    "**Anwer #1:**"
   ]
  },
  {
   "cell_type": "code",
   "execution_count": null,
   "metadata": {},
   "outputs": [],
   "source": [
    "def change_it(y):\n",
    "    y = list(y)\n",
    "    y.append(4)\n",
    "    print(y)\n",
    "\n",
    "x = [1, 2, 3]\n",
    "change_it(x)"
   ]
  },
  {
   "cell_type": "markdown",
   "metadata": {},
   "source": [
    "**Antwort #2:**"
   ]
  },
  {
   "cell_type": "code",
   "execution_count": null,
   "metadata": {},
   "outputs": [],
   "source": [
    "def change_it(y):\n",
    "    y = list(y)\n",
    "    y.append(4)\n",
    "\n",
    "x = [1, 2, 3]\n",
    "change_it(x)\n",
    "print(x)"
   ]
  },
  {
   "cell_type": "markdown",
   "metadata": {},
   "source": [
    "**Antwort #3:**"
   ]
  },
  {
   "cell_type": "code",
   "execution_count": null,
   "metadata": {},
   "outputs": [],
   "source": [
    "x = [1, 2, 3]\n",
    "y = tuple(x)\n",
    "z = list(y)\n",
    "z.append(4)\n",
    "print(x)"
   ]
  },
  {
   "cell_type": "markdown",
   "metadata": {},
   "source": [
    "### Übung 10\n",
    "Angesichts dessen, dass `list()` und `x[:]` eine neue Liste erstellen, bedeutet dies, dass du es verwenden kannst, um direkt eine Kopie einer Liste zu erstellen, ohne einen Zwischenschritt mit einem Tupel. Was wird unten passieren?\n",
    "\n",
    "**Antwort :** "
   ]
  },
  {
   "cell_type": "code",
   "execution_count": null,
   "metadata": {},
   "outputs": [],
   "source": [
    "x = [1, 2, 3]\n",
    "y = x[:]\n",
    "x.append(4)\n",
    "print(y)"
   ]
  },
  {
   "cell_type": "markdown",
   "metadata": {},
   "source": [
    "## Übung 11\n",
    "Schreibe Code, der einen _Tier_ Knoten nimmt (setze die `tree` Variable von Hand) und erzeuge einen Baum mit drei Knoten, wie in Option #1 in der Abbildung im Haupttext. Du musst zwei zusätzliche Wörterbücher erstellen und sie den Feldern `\"yes\"` und `\"no\"` zuweisen, so dass du ein Wörterbuch erhältst, das dem Baum in Option #1 entspricht. Code sowohl das neue Tier als auch die neue Aktion zuerst hart ein. Sobald dein Code funktioniert, ersetze die hart codierten Werte durch `input` Aufrufe, die den Benutzer fragen: \"Wer ist es?\" und \"Was macht <Tier>?\"."
   ]
  },
  {
   "cell_type": "code",
   "execution_count": null,
   "metadata": {},
   "outputs": [],
   "source": []
  },
  {
   "cell_type": "markdown",
   "metadata": {},
   "source": [
    "## Übung 12\n",
    "Schreibe den Code, der den Baum erweitert, indem du den Inhalt des ursprünglichen Knotens ersetzt und neue Tierknoten hinzufügst. Nutze [deepcopy](https://docs.python.org/3/library/copy.html#copy.deepcopy) aus dem `copy` Modul, um eine unabhängige Kopie des ursprünglichen Tierknotens zu erstellen."
   ]
  },
  {
   "cell_type": "code",
   "execution_count": null,
   "metadata": {},
   "outputs": [],
   "source": []
  }
 ],
 "metadata": {
  "kernelspec": {
   "display_name": "Python 3",
   "language": "python",
   "name": "python3"
  },
  "language_info": {
   "codemirror_mode": {
    "name": "ipython",
    "version": 3
   },
   "file_extension": ".py",
   "mimetype": "text/x-python",
   "name": "python",
   "nbconvert_exporter": "python",
   "pygments_lexer": "ipython3",
   "version": "3.8.3"
  }
 },
 "nbformat": 4,
 "nbformat_minor": 2
}
