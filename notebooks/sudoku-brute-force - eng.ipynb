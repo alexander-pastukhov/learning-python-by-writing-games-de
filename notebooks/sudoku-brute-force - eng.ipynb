{
 "cells": [
  {
   "cell_type": "markdown",
   "metadata": {},
   "source": [
    "# Sudoku: brute force algorithm"
   ]
  },
  {
   "cell_type": "code",
   "execution_count": null,
   "metadata": {},
   "outputs": [],
   "source": [
    "import numpy as np"
   ]
  },
  {
   "cell_type": "markdown",
   "metadata": {},
   "source": [
    "## Exercise 01\n",
    "Create an array out of a list of 5 float values. Replace the second element of an array with a logical `True` value. Think what the final array values will be before printing out the array."
   ]
  },
  {
   "cell_type": "code",
   "execution_count": null,
   "metadata": {},
   "outputs": [],
   "source": []
  },
  {
   "cell_type": "markdown",
   "metadata": {},
   "source": [
    "## Exercise 02\n",
    "Create two arrays with 5 float values. Add `2` to each element of the first array and multiply arrays elementwise. Print out 2 and 3 elements of the final array using slicing."
   ]
  },
  {
   "cell_type": "code",
   "execution_count": null,
   "metadata": {},
   "outputs": [],
   "source": []
  },
  {
   "cell_type": "markdown",
   "metadata": {},
   "source": [
    "## Exercise 03\n",
    "Create an array of a list of 5 float values. Compute and print mean and minimual values of the array."
   ]
  },
  {
   "cell_type": "code",
   "execution_count": null,
   "metadata": {},
   "outputs": [],
   "source": []
  },
  {
   "cell_type": "markdown",
   "metadata": {},
   "source": [
    "## Exercise 04\n",
    "Define a 4×4 list of lists with numbers going from 1 to 16. Extract and print second column, third row, lower right quadrant."
   ]
  },
  {
   "cell_type": "code",
   "execution_count": null,
   "metadata": {},
   "outputs": [],
   "source": []
  },
  {
   "cell_type": "markdown",
   "metadata": {},
   "source": [
    "Convert list of lists to a NumPy matrix and repeat exercise by via slicing."
   ]
  },
  {
   "cell_type": "code",
   "execution_count": null,
   "metadata": {},
   "outputs": [],
   "source": []
  },
  {
   "cell_type": "markdown",
   "metadata": {},
   "source": [
    "## Exercise 05\n",
    "Using [numpy.ones()](https://numpy.org/doc/stable/reference/generated/numpy.ones.html) function, create a 4×4 matrix filled with `7`."
   ]
  },
  {
   "cell_type": "code",
   "execution_count": null,
   "metadata": {},
   "outputs": [],
   "source": []
  },
  {
   "cell_type": "markdown",
   "metadata": {},
   "source": [
    "## Exercise 06\n",
    "Generate a 4×5 matrix filled with normally distributed random numbers with mean of 3 and standard deviation of 1."
   ]
  },
  {
   "cell_type": "code",
   "execution_count": null,
   "metadata": {},
   "outputs": [],
   "source": []
  },
  {
   "cell_type": "markdown",
   "metadata": {},
   "source": [
    "## Exercise 07\n",
    "Generate a sequence of number from 1 to 10 using arange."
   ]
  },
  {
   "cell_type": "code",
   "execution_count": null,
   "metadata": {},
   "outputs": [],
   "source": []
  },
  {
   "cell_type": "markdown",
   "metadata": {},
   "source": [
    "Do the same but using linspace."
   ]
  },
  {
   "cell_type": "code",
   "execution_count": null,
   "metadata": {},
   "outputs": [],
   "source": []
  },
  {
   "cell_type": "markdown",
   "metadata": {},
   "source": [
    "## Exercise 08\n",
    "Generate a 4×4 Sudoku matrix out of ordered rows (stacked vertically) or columns (stacked horizontally).\n",
    "\n",
    "Ordered by row (stacked vertically)"
   ]
  },
  {
   "cell_type": "code",
   "execution_count": null,
   "metadata": {},
   "outputs": [],
   "source": []
  },
  {
   "cell_type": "markdown",
   "metadata": {},
   "source": [
    "Ordered by column (stacked horizontally)"
   ]
  },
  {
   "cell_type": "code",
   "execution_count": null,
   "metadata": {},
   "outputs": [],
   "source": []
  },
  {
   "cell_type": "markdown",
   "metadata": {},
   "source": [
    "## Exercise 09\n",
    "Create a four-element row vector, i.e., its [shape](https://numpy.org/doc/stable/reference/generated/numpy.shape.html) must be `(1, 4)`. Stack it to create \n",
    "\n",
    "1. `(1, 16)` array\n",
    "2. `(4, 4)` array\n",
    "3. Use result of #1 and transpose it to get a `(16, 1)` array."
   ]
  },
  {
   "cell_type": "code",
   "execution_count": null,
   "metadata": {},
   "outputs": [],
   "source": []
  },
  {
   "cell_type": "markdown",
   "metadata": {},
   "source": [
    "Create a four-element column vector, i.e., its [shape](https://numpy.org/doc/stable/reference/generated/numpy.shape.html) must be `(4, 1)`. Stack it to create \n",
    "\n",
    "1. `(16, 1)` array\n",
    "2. `(4, 4)` array\n",
    "3. Use result of #1 and transpose it to get a `(1, 16)` array."
   ]
  },
  {
   "cell_type": "code",
   "execution_count": null,
   "metadata": {},
   "outputs": [],
   "source": []
  },
  {
   "cell_type": "markdown",
   "metadata": {},
   "source": [
    "## Exercise 10\n",
    "Generate a 4×4 matrix using [arange](https://numpy.org/doc/stable/reference/generated/numpy.arange.html) and [repeat](https://numpy.org/doc/stable/reference/generated/numpy.repeat.html). Create a column vector for values 1 to 4 from an array generated by [arange](https://numpy.org/doc/stable/reference/generated/numpy.arange.html) (check its shape, should be `(4, 1)`). Repeat that column vector four times to create a 4×4 matrix. Think and experiment with `axis` parameter of the [repeat](https://numpy.org/doc/stable/reference/generated/numpy.repeat.html) function. Your matrix should look like this:\n",
    "\n",
    "| 1 | 1 | 1 | 1 |\n",
    "|---|---|---|---|\n",
    "| 2 | 2 | 2 | 2 |\n",
    "| 3 | 3 | 3 | 3 |\n",
    "| 4 | 4 | 4 | 4 |\n"
   ]
  },
  {
   "cell_type": "code",
   "execution_count": null,
   "metadata": {},
   "outputs": [],
   "source": []
  },
  {
   "cell_type": "markdown",
   "metadata": {},
   "source": [
    "## Exercise 11\n",
    "Generate a 4×4 matrix using [arange](https://numpy.org/doc/stable/reference/generated/numpy.arange.html) and [tile](https://numpy.org/doc/stable/reference/generated/numpy.tile.html). Create a row vector for values 1 to 4 from an array generated by [arange](https://numpy.org/doc/stable/reference/generated/numpy.arange.html) (check its shape, should be `(1, 4)`). Repeat that row vector four times to create a 4×4 matrix. Think and experiment with `reps` parameter of the [tile](https://numpy.org/doc/stable/reference/generated/numpy.tile.html) function. Your matrix should look like this:\n",
    "\n",
    "| 1 | 2 | 3 | 4 |\n",
    "|---|---|---|---|\n",
    "| 1 | 2 | 3 | 4 |\n",
    "| 1 | 2 | 3 | 4 |\n",
    "| 1 | 2 | 3 | 4 |"
   ]
  },
  {
   "cell_type": "code",
   "execution_count": null,
   "metadata": {},
   "outputs": [],
   "source": []
  },
  {
   "cell_type": "markdown",
   "metadata": {},
   "source": [
    "## Exercise 12\n",
    "Write the code that creates an ordered matrix by row so each row goes from 1 till 4 but each column has a single number in it. Define matrix size via a constant. Write the code that shuffles just one row (put its index in `irow` variable). Change `irow` value to test that your code works."
   ]
  },
  {
   "cell_type": "code",
   "execution_count": null,
   "metadata": {},
   "outputs": [],
   "source": []
  },
  {
   "cell_type": "markdown",
   "metadata": {},
   "source": [
    "## Exercise 13\n",
    "Write and test single row validation."
   ]
  },
  {
   "cell_type": "code",
   "execution_count": null,
   "metadata": {},
   "outputs": [],
   "source": []
  },
  {
   "cell_type": "markdown",
   "metadata": {},
   "source": [
    "## Exercise 14\n",
    "Write and test single block extraction code, block is defined by `i_block_row` and `i_block_col`."
   ]
  },
  {
   "cell_type": "code",
   "execution_count": null,
   "metadata": {},
   "outputs": [],
   "source": [
    "i_block_row = 1\n",
    "i_block_col = 0"
   ]
  },
  {
   "cell_type": "markdown",
   "metadata": {},
   "source": [
    "Code for when grid is stacked by row."
   ]
  },
  {
   "cell_type": "code",
   "execution_count": null,
   "metadata": {},
   "outputs": [],
   "source": []
  },
  {
   "cell_type": "markdown",
   "metadata": {},
   "source": [
    "Code for when grid is stacked by column."
   ]
  },
  {
   "cell_type": "code",
   "execution_count": null,
   "metadata": {},
   "outputs": [],
   "source": []
  }
 ],
 "metadata": {
  "kernelspec": {
   "display_name": "Python 3",
   "language": "python",
   "name": "python3"
  },
  "language_info": {
   "codemirror_mode": {
    "name": "ipython",
    "version": 3
   },
   "file_extension": ".py",
   "mimetype": "text/x-python",
   "name": "python",
   "nbconvert_exporter": "python",
   "pygments_lexer": "ipython3",
   "version": "3.8.3"
  }
 },
 "nbformat": 4,
 "nbformat_minor": 5
}
