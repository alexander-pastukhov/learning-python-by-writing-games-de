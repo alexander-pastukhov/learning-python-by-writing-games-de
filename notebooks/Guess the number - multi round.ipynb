{
 "cells": [
  {
   "cell_type": "markdown",
   "metadata": {},
   "source": [
    "# Guess the number:  Eine Mehr-Runden-Ausgabe"
   ]
  },
  {
   "cell_type": "markdown",
   "metadata": {},
   "source": [
    "### Übung 01\n",
    "Schau dir den Code an und entscheide, wie oft jede Schleife wiederholt wird. Schreibe deine Antwort auf und überprüfe sie, indem du die Zellen ausführst. Hinweis, du musst vielleicht die Menüoption Kernel / Interrupt verwenden."
   ]
  },
  {
   "cell_type": "markdown",
   "metadata": {},
   "source": [
    "**Antwort #1:**"
   ]
  },
  {
   "cell_type": "code",
   "execution_count": null,
   "metadata": {},
   "outputs": [],
   "source": [
    "while False:\n",
    "    print(\"I am inside!\")"
   ]
  },
  {
   "cell_type": "markdown",
   "metadata": {},
   "source": [
    "**Antwort #2:**"
   ]
  },
  {
   "cell_type": "code",
   "execution_count": null,
   "metadata": {},
   "outputs": [],
   "source": [
    "a = \"A\"\n",
    "while a == \"A\":\n",
    "    a = \"B\"\n",
    "    print(\"I am inside!\")"
   ]
  },
  {
   "cell_type": "markdown",
   "metadata": {},
   "source": [
    "**Antwort #3:**"
   ]
  },
  {
   "cell_type": "code",
   "execution_count": null,
   "metadata": {},
   "outputs": [],
   "source": [
    "a = 0\n",
    "while a < 5:\n",
    "    a = a + 1\n",
    "    print(\"I am inside\")"
   ]
  },
  {
   "cell_type": "markdown",
   "metadata": {},
   "source": [
    "**Antwort #4:**"
   ]
  },
  {
   "cell_type": "code",
   "execution_count": null,
   "metadata": {},
   "outputs": [],
   "source": [
    "a = 0\n",
    "while a < 5:\n",
    "    a = a + 4\n",
    "    print(\"I am inside\")"
   ]
  },
  {
   "cell_type": "markdown",
   "metadata": {},
   "source": [
    "**Antwort #5:**"
   ]
  },
  {
   "cell_type": "code",
   "execution_count": null,
   "metadata": {},
   "outputs": [],
   "source": [
    "a = 0\n",
    "while a >= 0:\n",
    "    a = a + 1\n",
    "    print(\"I am inside\")"
   ]
  },
  {
   "cell_type": "markdown",
   "metadata": {},
   "source": [
    "### Übung 02\n",
    "Schau dir den Code an und entscheide, welche Zahlen ausgegeben werden. Schreibe deine Antwort auf und überprüfe sie, indem du die Zellen ausführst."
   ]
  },
  {
   "cell_type": "markdown",
   "metadata": {},
   "source": [
    "**Antwort #1:**"
   ]
  },
  {
   "cell_type": "code",
   "execution_count": null,
   "metadata": {},
   "outputs": [],
   "source": [
    "print(\"1\")\n",
    "while True:\n",
    "    break\n",
    "    print(\"2\")\n",
    "print(\"3\")"
   ]
  },
  {
   "cell_type": "markdown",
   "metadata": {},
   "source": [
    "**Antwort #2:**"
   ]
  },
  {
   "cell_type": "code",
   "execution_count": null,
   "metadata": {},
   "outputs": [],
   "source": [
    "x = 2\n",
    "print(\"1\")\n",
    "while x == 2:\n",
    "    print(\"2\")\n",
    "    if x == 2:\n",
    "        break\n",
    "        print(\"3\")\n",
    "    \n",
    "    print(\"4\")\n",
    "\n",
    "print(\"5\")"
   ]
  },
  {
   "cell_type": "markdown",
   "metadata": {},
   "source": [
    "**Antwort #3:**"
   ]
  },
  {
   "cell_type": "code",
   "execution_count": null,
   "metadata": {},
   "outputs": [],
   "source": [
    "x = 2\n",
    "while x == 2:\n",
    "    print(\"1\")\n",
    "    while x > 3:\n",
    "        print(\"2\")\n",
    "        \n",
    "    while x != -1:\n",
    "        print(\"3\")\n",
    "        break\n",
    "        print(\"4\")\n",
    "        \n",
    "    while x <= 2:\n",
    "        print(\"5\")\n",
    "        x = x + 2\n",
    "    \n",
    "    print(\"6\")\n",
    "    break\n",
    "    print(\"7\")\n",
    "\n",
    "print(\"8\")"
   ]
  }
 ],
 "metadata": {
  "kernelspec": {
   "display_name": "Python 3 (ipykernel)",
   "language": "python",
   "name": "python3"
  },
  "language_info": {
   "codemirror_mode": {
    "name": "ipython",
    "version": 3
   },
   "file_extension": ".py",
   "mimetype": "text/x-python",
   "name": "python",
   "nbconvert_exporter": "python",
   "pygments_lexer": "ipython3",
   "version": "3.10.9"
  }
 },
 "nbformat": 4,
 "nbformat_minor": 4
}
