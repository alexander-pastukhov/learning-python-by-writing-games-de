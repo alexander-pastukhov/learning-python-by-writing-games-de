{
 "cells": [
  {
   "cell_type": "markdown",
   "metadata": {},
   "source": [
    "# Sudoku: Backtracking-Algorithmus"
   ]
  },
  {
   "cell_type": "code",
   "execution_count": null,
   "metadata": {},
   "outputs": [],
   "source": [
    "import numpy as np"
   ]
  },
  {
   "cell_type": "markdown",
   "metadata": {},
   "source": [
    "## Übung 01\n",
    "Create a zeros only square matrix using numpy. Define matrix size via constant `SUDOKU_SIZE`."
   ]
  },
  {
   "cell_type": "code",
   "execution_count": null,
   "metadata": {},
   "outputs": [],
   "source": []
  },
  {
   "cell_type": "markdown",
   "metadata": {},
   "source": [
    "## Übung 02\n",
    "Erstelle eine quadratische Matrix, die nur nullen enthält, als Liste von Listen über Listenwiederholung. Verwende wieder die Konstante `SUDOKU_SIZE`, um die Länge der Listen zu definieren."
   ]
  },
  {
   "cell_type": "code",
   "execution_count": null,
   "metadata": {},
   "outputs": [],
   "source": []
  },
  {
   "cell_type": "markdown",
   "metadata": {},
   "source": [
    "## Übung 03\n",
    "Führe die Zelle unten aus, um die Arrays zu definieren."
   ]
  },
  {
   "cell_type": "code",
   "execution_count": null,
   "metadata": {},
   "outputs": [],
   "source": [
    "oned_array = np.array([1, 2, 3, 4])\n",
    "twod_array = np.array([[5, 6], [7, 8]])"
   ]
  },
  {
   "cell_type": "markdown",
   "metadata": {},
   "source": [
    "Problem 01. Forme `oned_array` in eine 2D-Matrix um, indem du die Form von `twod_array` verwendest (codiere die Dimensionen nicht direkt hart!)"
   ]
  },
  {
   "cell_type": "code",
   "execution_count": null,
   "metadata": {},
   "outputs": [],
   "source": []
  },
  {
   "cell_type": "markdown",
   "metadata": {},
   "source": [
    "Problem 02. Forme `twod_array` in ein eindimensionales Array um, indem du die Form von `oned_array` verwendest (codiere die Dimensionen nicht direkt hart!)."
   ]
  },
  {
   "cell_type": "code",
   "execution_count": null,
   "metadata": {},
   "outputs": [],
   "source": []
  },
  {
   "cell_type": "markdown",
   "metadata": {},
   "source": [
    "Problem 03. Forme `twod_array` mithilfe seiner eigenen Größe in ein eindimensionales Array um (codiere die Dimensionen nicht direkt hart!)."
   ]
  },
  {
   "cell_type": "code",
   "execution_count": null,
   "metadata": {},
   "outputs": [],
   "source": []
  },
  {
   "cell_type": "markdown",
   "metadata": {},
   "source": [
    "Problem 04. Forme `twod_array` mittels der Flatten-Methode in ein eindimensionales Array um."
   ]
  },
  {
   "cell_type": "code",
   "execution_count": null,
   "metadata": {},
   "outputs": [],
   "source": []
  },
  {
   "cell_type": "markdown",
   "metadata": {},
   "source": [
    "## Übung 04\n",
    "Schreibe Code, der einen Division-durch-Null-Fehler erzeugt, aber über `try...except...` abgefangen wird. Gib im `except` einfach eine Nachricht aus, sodass du weißt, dass die Ausnahme abgefangen wurde. Erstelle eine weitere Zelle, kopiere den Code und überprüfe nun, dass der Ausnahmebehandlungscode _nicht_ ausgeführt wird, wenn der Fehler nicht erzeugt wird (d.h. teile durch eine von null verschiedene Zahl)."
   ]
  },
  {
   "cell_type": "code",
   "execution_count": null,
   "metadata": {},
   "outputs": [],
   "source": [
    "# Code, wenn eine Division-durch-Null-Ausnahme ausgelöst wird\n"
   ]
  },
  {
   "cell_type": "code",
   "execution_count": null,
   "metadata": {},
   "outputs": [],
   "source": [
    "# Code, wenn keine Division-durch-Null-Ausnahme ausgelöst wird\n"
   ]
  },
  {
   "cell_type": "markdown",
   "metadata": {},
   "source": [
    "## Übung 05\n",
    "Implementiere eine Behandlung für `KeyError` und `ZeroDivisionError`; sie sollten unterschiedliche Nachrichten ausgeben, um zu überprüfen, dass es funktioniert. Teste es, indem du diese Laufzeitfehler mit deinem Code erzeugst.\n",
    "\n",
    "Code, der beide Ausnahmen behandelt, aber eine `ZeroDivisionError`-Ausnahme erzeugt"
   ]
  },
  {
   "cell_type": "code",
   "execution_count": null,
   "metadata": {},
   "outputs": [],
   "source": []
  },
  {
   "cell_type": "markdown",
   "metadata": {},
   "source": [
    "Code, der beide Ausnahmen behandelt, aber eine `KeyError`-Ausnahme erzeugt"
   ]
  },
  {
   "cell_type": "code",
   "execution_count": null,
   "metadata": {},
   "outputs": [],
   "source": []
  },
  {
   "cell_type": "markdown",
   "metadata": {},
   "source": [
    "## Übung 06\n",
    "Wiederhole Übung 05, aber löse selbst `KeyError` und `ZeroDivisionError` aus."
   ]
  },
  {
   "cell_type": "code",
   "execution_count": null,
   "metadata": {},
   "outputs": [],
   "source": []
  },
  {
   "cell_type": "markdown",
   "metadata": {},
   "source": [
    "## Übung 07\n",
    "Implementiere den Code mit einer einfachen endlosen while-Schleife, in der du fragst, ob weitergespielt oder beendet werden soll (entscheide selbst, wie du die Eingabe handhaben willst). Sobald du dich schließlich dafür entscheidest zu beenden, wirf eine `QuitTheGame`-Ausnahme, die vom `try except`-Code, der um die Schleife herum eingewickelt ist, behandelt werden soll. Verwende Code, um die `QuitTheGame`-Ausnahme _spezifisch_ zu behandeln und gib eine Nachricht aus, um zu zeigen, wie traurig du bist, dass der Spieler das Spiel verlässt."
   ]
  },
  {
   "cell_type": "code",
   "execution_count": null,
   "metadata": {},
   "outputs": [],
   "source": []
  }
 ],
 "metadata": {
  "kernelspec": {
   "display_name": "Python 3 (ipykernel)",
   "language": "python",
   "name": "python3"
  },
  "language_info": {
   "codemirror_mode": {
    "name": "ipython",
    "version": 3
   },
   "file_extension": ".py",
   "mimetype": "text/x-python",
   "name": "python",
   "nbconvert_exporter": "python",
   "pygments_lexer": "ipython3",
   "version": "3.10.9"
  }
 },
 "nbformat": 4,
 "nbformat_minor": 2
}
