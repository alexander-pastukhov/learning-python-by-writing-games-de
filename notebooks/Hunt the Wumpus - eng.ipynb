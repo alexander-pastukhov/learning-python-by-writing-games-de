{
 "cells": [
  {
   "cell_type": "markdown",
   "id": "25aa1be7",
   "metadata": {},
   "source": [
    "# Hunt the Wumpus"
   ]
  },
  {
   "cell_type": "markdown",
   "id": "0af6e3c0",
   "metadata": {},
   "source": [
    "### Exercise 1. Value in a list\n",
    "What will be printed, `True` or `False`?"
   ]
  },
  {
   "cell_type": "markdown",
   "id": "bedcc637",
   "metadata": {},
   "source": [
    " **Answer #1:**"
   ]
  },
  {
   "cell_type": "code",
   "execution_count": null,
   "id": "e79ed449",
   "metadata": {},
   "outputs": [],
   "source": [
    "x = [40, 20, 10, 20, 50, 30, 70, 15, 2]\n",
    "17 in x"
   ]
  },
  {
   "cell_type": "markdown",
   "id": "ad4cbdbb",
   "metadata": {},
   "source": [
    " **Answer #2:**"
   ]
  },
  {
   "cell_type": "code",
   "execution_count": null,
   "id": "f12616ab",
   "metadata": {},
   "outputs": [],
   "source": [
    "x = [40, 20, 10, 20, 50, 30, 70, 15, 2]\n",
    "30 in x"
   ]
  },
  {
   "cell_type": "markdown",
   "id": "a68f0273",
   "metadata": {},
   "source": [
    " **Answer #3:**"
   ]
  },
  {
   "cell_type": "code",
   "execution_count": null,
   "id": "baab6bfa",
   "metadata": {},
   "outputs": [],
   "source": [
    "x = [40, 20, 10, 20, 50, 30, 70, 15, 2]\n",
    "12 not in x"
   ]
  },
  {
   "cell_type": "markdown",
   "id": "0194fd2b",
   "metadata": {},
   "source": [
    " **Answer #4:**"
   ]
  },
  {
   "cell_type": "code",
   "execution_count": null,
   "id": "d58589df",
   "metadata": {},
   "outputs": [],
   "source": [
    "x = [40, [20, 10], 20, [50, 30], 70, [15], 2]\n",
    "15 in x"
   ]
  },
  {
   "cell_type": "markdown",
   "id": "201cddd0",
   "metadata": {},
   "source": [
    " **Answer #5:**"
   ]
  },
  {
   "cell_type": "code",
   "execution_count": null,
   "id": "9779d7e0",
   "metadata": {},
   "outputs": [],
   "source": [
    "x = [40, [20, 10], 20, [50, 30], 70, [15], 2]\n",
    "[15] in x"
   ]
  },
  {
   "cell_type": "markdown",
   "id": "63b59053",
   "metadata": {},
   "source": [
    "### Exercise 2. String can be converted on an integer\n",
    "What will be printed, True or False?"
   ]
  },
  {
   "cell_type": "markdown",
   "id": "e89f2470",
   "metadata": {},
   "source": [
    "**Answer #1:**"
   ]
  },
  {
   "cell_type": "code",
   "execution_count": null,
   "id": "f23ffe94",
   "metadata": {},
   "outputs": [],
   "source": [
    "x = \"126.2\"\n",
    "x.isdigit()"
   ]
  },
  {
   "cell_type": "markdown",
   "id": "ec3f384a",
   "metadata": {},
   "source": [
    " **Answer #2:**"
   ]
  },
  {
   "cell_type": "code",
   "execution_count": null,
   "id": "5380b101",
   "metadata": {},
   "outputs": [],
   "source": [
    "x = \"-123\"\n",
    "x.isdigit()"
   ]
  },
  {
   "cell_type": "markdown",
   "id": "c5a0c2cc",
   "metadata": {},
   "source": [
    " **Answer #3:**"
   ]
  },
  {
   "cell_type": "code",
   "execution_count": null,
   "id": "933c454f",
   "metadata": {},
   "outputs": [],
   "source": [
    "x = \"4703\"\n",
    "x.isdigit()"
   ]
  },
  {
   "cell_type": "markdown",
   "id": "56bf7046",
   "metadata": {},
   "source": [
    " **Answer #4:**"
   ]
  },
  {
   "cell_type": "code",
   "execution_count": null,
   "id": "5136687b",
   "metadata": {},
   "outputs": [],
   "source": [
    "x = \"47O3\"\n",
    "x.isdigit()"
   ]
  },
  {
   "cell_type": "markdown",
   "id": "ecfc57b8",
   "metadata": {},
   "source": [
    "### Exercise 3. Using sets\n",
    "What will be printed? Write the answer down before running the cell."
   ]
  },
  {
   "cell_type": "markdown",
   "id": "e0614c7e",
   "metadata": {},
   "source": [
    "**Answer #1:**"
   ]
  },
  {
   "cell_type": "code",
   "execution_count": null,
   "id": "60cb0075",
   "metadata": {},
   "outputs": [],
   "source": [
    "set([1, 3, 5, 7, 3, 2])"
   ]
  },
  {
   "cell_type": "markdown",
   "id": "8469b8f2",
   "metadata": {},
   "source": [
    " **Answer #2:**"
   ]
  },
  {
   "cell_type": "code",
   "execution_count": null,
   "id": "5d35a21f",
   "metadata": {},
   "outputs": [],
   "source": [
    "a_set = set()\n",
    "a_set.add(1)\n",
    "a_set.add(2)\n",
    "a_set.add(1)\n",
    "a_set"
   ]
  },
  {
   "cell_type": "markdown",
   "id": "e09418da",
   "metadata": {},
   "source": [
    " Note that for sets `a + b` is equivalent to `a.union(b)`\n",
    " \n",
    " **Answer #3:**"
   ]
  },
  {
   "cell_type": "code",
   "execution_count": null,
   "id": "ca3696d3",
   "metadata": {},
   "outputs": [],
   "source": [
    "set_a = set([1, 2, 3, 4])\n",
    "set_b = set([3, 4, 5, 6])\n",
    "set_a + set_b"
   ]
  },
  {
   "cell_type": "markdown",
   "id": "c1611e6d",
   "metadata": {},
   "source": [
    " **Answer #4:**"
   ]
  },
  {
   "cell_type": "code",
   "execution_count": null,
   "id": "04a4bdc8",
   "metadata": {},
   "outputs": [],
   "source": [
    "set_a = set([1, 2, 3, 4])\n",
    "set_b = set([3, 4, 5, 6])\n",
    "set_a.intersection(set_b)"
   ]
  },
  {
   "cell_type": "markdown",
   "id": "2d932a5d",
   "metadata": {},
   "source": [
    " Note that for sets `a - b` is equivalent to `a.difference(b)`\n",
    " \n",
    " **Answer #5:**"
   ]
  },
  {
   "cell_type": "code",
   "execution_count": null,
   "id": "fd6b7bca",
   "metadata": {},
   "outputs": [],
   "source": [
    "set_a = set([1, 2, 3, 4])\n",
    "set_b = set([3, 4, 5, 6])\n",
    "set_a - set_b"
   ]
  },
  {
   "cell_type": "markdown",
   "id": "6d51a08d",
   "metadata": {},
   "source": [
    " **Answer #6:**"
   ]
  },
  {
   "cell_type": "code",
   "execution_count": null,
   "id": "4e465574",
   "metadata": {},
   "outputs": [],
   "source": [
    "set_a = set([1, 2, 3, 4])\n",
    "set_b = set([3, 4, 5, 6])\n",
    "set_b - set_a"
   ]
  },
  {
   "cell_type": "markdown",
   "id": "6eca48a2",
   "metadata": {},
   "source": [
    "### Exercise 4. Test `find_vacant_cave_bruteforce` here"
   ]
  },
  {
   "cell_type": "code",
   "execution_count": null,
   "id": "a0d6a417",
   "metadata": {},
   "outputs": [],
   "source": []
  },
  {
   "cell_type": "markdown",
   "id": "3593836c",
   "metadata": {},
   "source": [
    "### Exercise 5. Test `find_vacant_cave` here"
   ]
  },
  {
   "cell_type": "code",
   "execution_count": null,
   "id": "ebb67f2f",
   "metadata": {},
   "outputs": [],
   "source": []
  },
  {
   "cell_type": "markdown",
   "id": "a6459195",
   "metadata": {},
   "source": [
    "### Exercise 6. Test code for placing bottomless pits here"
   ]
  },
  {
   "cell_type": "code",
   "execution_count": null,
   "id": "99531e3e",
   "metadata": {},
   "outputs": [],
   "source": []
  },
  {
   "cell_type": "markdown",
   "id": "4f5a1676",
   "metadata": {},
   "source": [
    "### Exercise 7. Test code for `next_arrow_cave()` function here"
   ]
  },
  {
   "cell_type": "code",
   "execution_count": null,
   "id": "96606437",
   "metadata": {},
   "outputs": [],
   "source": []
  },
  {
   "cell_type": "markdown",
   "id": "3440e95e",
   "metadata": {},
   "source": [
    "### Exercise 8. Test code for `input_shoot_or_move()` function here"
   ]
  },
  {
   "cell_type": "code",
   "execution_count": null,
   "id": "a63773ac",
   "metadata": {},
   "outputs": [],
   "source": []
  },
  {
   "cell_type": "markdown",
   "id": "ba5d3c12",
   "metadata": {},
   "source": [
    "### Exercise 9. Test code for `input_distance()` function here"
   ]
  },
  {
   "cell_type": "code",
   "execution_count": null,
   "id": "989bfde5",
   "metadata": {},
   "outputs": [],
   "source": []
  },
  {
   "cell_type": "markdown",
   "id": "07396630",
   "metadata": {},
   "source": [
    "### Exercise 10. Test code for `input_cave_with_prompt()` function here"
   ]
  },
  {
   "cell_type": "code",
   "execution_count": null,
   "id": "d448a333",
   "metadata": {},
   "outputs": [],
   "source": []
  }
 ],
 "metadata": {
  "kernelspec": {
   "display_name": "Python 3 (ipykernel)",
   "language": "python",
   "name": "python3"
  },
  "language_info": {
   "codemirror_mode": {
    "name": "ipython",
    "version": 3
   },
   "file_extension": ".py",
   "mimetype": "text/x-python",
   "name": "python",
   "nbconvert_exporter": "python",
   "pygments_lexer": "ipython3",
   "version": "3.10.9"
  }
 },
 "nbformat": 4,
 "nbformat_minor": 5
}
